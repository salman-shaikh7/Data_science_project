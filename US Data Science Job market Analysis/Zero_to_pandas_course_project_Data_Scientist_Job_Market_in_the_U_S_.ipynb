{
  "cells": [
    {
      "cell_type": "markdown",
      "metadata": {
        "id": "yZvS0Dt-ojyp"
      },
      "source": [
        "# Project Title - Data analysis of 'Data Scientist Job Market in the U.S' \n",
        "\n",
        "TODO - I am goining to do data analysis of a data set of U.S job market. The Data set contain different columns like '**job title**', '**job decription**' ,'**location**' , and '**reviews**' .I got this dataset from **kagle.com**,\n",
        "I will try to find different job roles available in the domain, also try to analyse main skillset for those positions. We also have location column in our dataset so we will analyse which location has higher openings. Coming to tool parts I am going to use **python** **Numpy**, **Pandas** for data cleaning and analyzing and **matplotlib** graph for analysis and presentaion purpose. From the [Data Analysis with Python: Zero to Pandas](zerotopandas.com): I leaned so much new things from this course and eager to apply them."
      ]
    },
    {
      "cell_type": "markdown",
      "metadata": {
        "id": "oNzKtmMIojyv"
      },
      "source": [
        "Let us save and upload our work to Jovian before continuing."
      ]
    },
    {
      "cell_type": "markdown",
      "metadata": {
        "id": "L9yYI7vPojyx"
      },
      "source": [
        "## Data Preparation and Cleaning\n",
        "\n",
        "\n",
        "\n"
      ]
    },
    {
      "cell_type": "code",
      "execution_count": 2,
      "metadata": {
        "id": "JVf6w6Rlojyx"
      },
      "outputs": [],
      "source": [
        "import pandas as pd\n",
        "import numpy as np\n",
        "import seaborn as sns\n",
        "import matplotlib.pyplot as plt\n",
        "%matplotlib inline"
      ]
    },
    {
      "cell_type": "markdown",
      "metadata": {
        "id": "oiwc5uRfLsHl"
      },
      "source": [
        "Firstly we will import the dataset file which is in csv format"
      ]
    },
    {
      "cell_type": "code",
      "execution_count": 3,
      "metadata": {
        "colab": {
          "base_uri": "https://localhost:8080/",
          "height": 206
        },
        "id": "szo51brlw3TX",
        "outputId": "5f64bd83-e9ed-4b32-bcaf-e8c8f6bf63ea"
      },
      "outputs": [
        {
          "data": {
            "text/html": [
              "<div>\n",
              "<style scoped>\n",
              "    .dataframe tbody tr th:only-of-type {\n",
              "        vertical-align: middle;\n",
              "    }\n",
              "\n",
              "    .dataframe tbody tr th {\n",
              "        vertical-align: top;\n",
              "    }\n",
              "\n",
              "    .dataframe thead th {\n",
              "        text-align: right;\n",
              "    }\n",
              "</style>\n",
              "<table border=\"1\" class=\"dataframe\">\n",
              "  <thead>\n",
              "    <tr style=\"text-align: right;\">\n",
              "      <th></th>\n",
              "      <th>position</th>\n",
              "      <th>company</th>\n",
              "      <th>description</th>\n",
              "      <th>reviews</th>\n",
              "      <th>location</th>\n",
              "    </tr>\n",
              "  </thead>\n",
              "  <tbody>\n",
              "    <tr>\n",
              "      <th>0</th>\n",
              "      <td>Development Director</td>\n",
              "      <td>ALS TDI</td>\n",
              "      <td>Development Director\\nALS Therapy Development ...</td>\n",
              "      <td>NaN</td>\n",
              "      <td>Atlanta, GA 30301</td>\n",
              "    </tr>\n",
              "    <tr>\n",
              "      <th>1</th>\n",
              "      <td>An Ostentatiously-Excitable Principal Research...</td>\n",
              "      <td>The Hexagon Lavish</td>\n",
              "      <td>Job Description\\n\\n\"The road that leads to acc...</td>\n",
              "      <td>NaN</td>\n",
              "      <td>Atlanta, GA</td>\n",
              "    </tr>\n",
              "    <tr>\n",
              "      <th>2</th>\n",
              "      <td>Data Scientist</td>\n",
              "      <td>Xpert Staffing</td>\n",
              "      <td>Growing company located in the Atlanta, GA are...</td>\n",
              "      <td>NaN</td>\n",
              "      <td>Atlanta, GA</td>\n",
              "    </tr>\n",
              "    <tr>\n",
              "      <th>3</th>\n",
              "      <td>Data Analyst</td>\n",
              "      <td>Operation HOPE</td>\n",
              "      <td>DEPARTMENT: Program OperationsPOSITION LOCATIO...</td>\n",
              "      <td>44.0</td>\n",
              "      <td>Atlanta, GA 30303</td>\n",
              "    </tr>\n",
              "    <tr>\n",
              "      <th>4</th>\n",
              "      <td>Assistant Professor -TT - Signal Processing &amp; ...</td>\n",
              "      <td>Emory University</td>\n",
              "      <td>DESCRIPTION\\nThe Emory University Department o...</td>\n",
              "      <td>550.0</td>\n",
              "      <td>Atlanta, GA</td>\n",
              "    </tr>\n",
              "  </tbody>\n",
              "</table>\n",
              "</div>"
            ],
            "text/plain": [
              "                                            position             company  \\\n",
              "0                               Development Director             ALS TDI   \n",
              "1  An Ostentatiously-Excitable Principal Research...  The Hexagon Lavish   \n",
              "2                                     Data Scientist      Xpert Staffing   \n",
              "3                                       Data Analyst      Operation HOPE   \n",
              "4  Assistant Professor -TT - Signal Processing & ...    Emory University   \n",
              "\n",
              "                                         description  reviews  \\\n",
              "0  Development Director\\nALS Therapy Development ...      NaN   \n",
              "1  Job Description\\n\\n\"The road that leads to acc...      NaN   \n",
              "2  Growing company located in the Atlanta, GA are...      NaN   \n",
              "3  DEPARTMENT: Program OperationsPOSITION LOCATIO...     44.0   \n",
              "4  DESCRIPTION\\nThe Emory University Department o...    550.0   \n",
              "\n",
              "             location  \n",
              "0  Atlanta, GA 30301   \n",
              "1         Atlanta, GA  \n",
              "2         Atlanta, GA  \n",
              "3  Atlanta, GA 30303   \n",
              "4         Atlanta, GA  "
            ]
          },
          "execution_count": 3,
          "metadata": {},
          "output_type": "execute_result"
        }
      ],
      "source": [
        "df1=pd.read_csv('alldata.csv')\n",
        "df1.head(5)"
      ]
    },
    {
      "cell_type": "markdown",
      "metadata": {
        "id": "o29bOx1HL_5P"
      },
      "source": [
        "Now lets find out total structure of data in the dataframe using df.info function"
      ]
    },
    {
      "cell_type": "code",
      "execution_count": 3,
      "metadata": {
        "colab": {
          "base_uri": "https://localhost:8080/"
        },
        "id": "Ea6IJUjBojyx",
        "outputId": "d11d84aa-44e5-4a52-ef08-341c94a8f074"
      },
      "outputs": [
        {
          "name": "stdout",
          "output_type": "stream",
          "text": [
            "<class 'pandas.core.frame.DataFrame'>\n",
            "RangeIndex: 6964 entries, 0 to 6963\n",
            "Data columns (total 5 columns):\n",
            " #   Column       Non-Null Count  Dtype  \n",
            "---  ------       --------------  -----  \n",
            " 0   position     6953 non-null   object \n",
            " 1   company      6953 non-null   object \n",
            " 2   description  6953 non-null   object \n",
            " 3   reviews      5326 non-null   float64\n",
            " 4   location     6953 non-null   object \n",
            "dtypes: float64(1), object(4)\n",
            "memory usage: 163.3+ KB\n"
          ]
        }
      ],
      "source": [
        "df1.info()"
      ]
    },
    {
      "cell_type": "markdown",
      "metadata": {
        "id": "Ymo8HUboMRQ7"
      },
      "source": [
        "Lets check for null values using isna() method "
      ]
    },
    {
      "cell_type": "code",
      "execution_count": 4,
      "metadata": {
        "colab": {
          "base_uri": "https://localhost:8080/"
        },
        "id": "bxzhwUVwojyx",
        "outputId": "794d74f0-5807-4d48-cf8a-a660d5c48559"
      },
      "outputs": [
        {
          "data": {
            "text/plain": [
              "position         11\n",
              "company          11\n",
              "description      11\n",
              "reviews        1638\n",
              "location         11\n",
              "dtype: int64"
            ]
          },
          "execution_count": 4,
          "metadata": {},
          "output_type": "execute_result"
        }
      ],
      "source": [
        "df1.isna().sum()"
      ]
    },
    {
      "cell_type": "code",
      "execution_count": 5,
      "metadata": {
        "colab": {
          "base_uri": "https://localhost:8080/",
          "height": 394
        },
        "id": "-A5SMy4zojyx",
        "outputId": "8d7ab7d2-e2fb-4e0a-f441-77b8a5bdd4c9"
      },
      "outputs": [
        {
          "data": {
            "text/html": [
              "<div>\n",
              "<style scoped>\n",
              "    .dataframe tbody tr th:only-of-type {\n",
              "        vertical-align: middle;\n",
              "    }\n",
              "\n",
              "    .dataframe tbody tr th {\n",
              "        vertical-align: top;\n",
              "    }\n",
              "\n",
              "    .dataframe thead th {\n",
              "        text-align: right;\n",
              "    }\n",
              "</style>\n",
              "<table border=\"1\" class=\"dataframe\">\n",
              "  <thead>\n",
              "    <tr style=\"text-align: right;\">\n",
              "      <th></th>\n",
              "      <th>position</th>\n",
              "      <th>company</th>\n",
              "      <th>description</th>\n",
              "      <th>reviews</th>\n",
              "      <th>location</th>\n",
              "    </tr>\n",
              "  </thead>\n",
              "  <tbody>\n",
              "    <tr>\n",
              "      <th>302</th>\n",
              "      <td>NaN</td>\n",
              "      <td>NaN</td>\n",
              "      <td>NaN</td>\n",
              "      <td>NaN</td>\n",
              "      <td>NaN</td>\n",
              "    </tr>\n",
              "    <tr>\n",
              "      <th>331</th>\n",
              "      <td>NaN</td>\n",
              "      <td>NaN</td>\n",
              "      <td>NaN</td>\n",
              "      <td>NaN</td>\n",
              "      <td>NaN</td>\n",
              "    </tr>\n",
              "    <tr>\n",
              "      <th>466</th>\n",
              "      <td>NaN</td>\n",
              "      <td>NaN</td>\n",
              "      <td>NaN</td>\n",
              "      <td>NaN</td>\n",
              "      <td>NaN</td>\n",
              "    </tr>\n",
              "    <tr>\n",
              "      <th>482</th>\n",
              "      <td>NaN</td>\n",
              "      <td>NaN</td>\n",
              "      <td>NaN</td>\n",
              "      <td>NaN</td>\n",
              "      <td>NaN</td>\n",
              "    </tr>\n",
              "    <tr>\n",
              "      <th>3337</th>\n",
              "      <td>NaN</td>\n",
              "      <td>NaN</td>\n",
              "      <td>NaN</td>\n",
              "      <td>NaN</td>\n",
              "      <td>NaN</td>\n",
              "    </tr>\n",
              "    <tr>\n",
              "      <th>5014</th>\n",
              "      <td>NaN</td>\n",
              "      <td>NaN</td>\n",
              "      <td>NaN</td>\n",
              "      <td>NaN</td>\n",
              "      <td>NaN</td>\n",
              "    </tr>\n",
              "    <tr>\n",
              "      <th>5059</th>\n",
              "      <td>NaN</td>\n",
              "      <td>NaN</td>\n",
              "      <td>NaN</td>\n",
              "      <td>NaN</td>\n",
              "      <td>NaN</td>\n",
              "    </tr>\n",
              "    <tr>\n",
              "      <th>5103</th>\n",
              "      <td>NaN</td>\n",
              "      <td>NaN</td>\n",
              "      <td>NaN</td>\n",
              "      <td>NaN</td>\n",
              "      <td>NaN</td>\n",
              "    </tr>\n",
              "    <tr>\n",
              "      <th>5114</th>\n",
              "      <td>NaN</td>\n",
              "      <td>NaN</td>\n",
              "      <td>NaN</td>\n",
              "      <td>NaN</td>\n",
              "      <td>NaN</td>\n",
              "    </tr>\n",
              "    <tr>\n",
              "      <th>6093</th>\n",
              "      <td>NaN</td>\n",
              "      <td>NaN</td>\n",
              "      <td>NaN</td>\n",
              "      <td>NaN</td>\n",
              "      <td>NaN</td>\n",
              "    </tr>\n",
              "    <tr>\n",
              "      <th>6168</th>\n",
              "      <td>NaN</td>\n",
              "      <td>NaN</td>\n",
              "      <td>NaN</td>\n",
              "      <td>NaN</td>\n",
              "      <td>NaN</td>\n",
              "    </tr>\n",
              "  </tbody>\n",
              "</table>\n",
              "</div>"
            ],
            "text/plain": [
              "     position company description  reviews location\n",
              "302       NaN     NaN         NaN      NaN      NaN\n",
              "331       NaN     NaN         NaN      NaN      NaN\n",
              "466       NaN     NaN         NaN      NaN      NaN\n",
              "482       NaN     NaN         NaN      NaN      NaN\n",
              "3337      NaN     NaN         NaN      NaN      NaN\n",
              "5014      NaN     NaN         NaN      NaN      NaN\n",
              "5059      NaN     NaN         NaN      NaN      NaN\n",
              "5103      NaN     NaN         NaN      NaN      NaN\n",
              "5114      NaN     NaN         NaN      NaN      NaN\n",
              "6093      NaN     NaN         NaN      NaN      NaN\n",
              "6168      NaN     NaN         NaN      NaN      NaN"
            ]
          },
          "execution_count": 5,
          "metadata": {},
          "output_type": "execute_result"
        }
      ],
      "source": [
        "df1[df1.position.isna()]"
      ]
    },
    {
      "cell_type": "markdown",
      "metadata": {
        "id": "ZNS_eJNkMebY"
      },
      "source": [
        "here are 11 rows in dataframe that are completey NA so we have to drop them using dropna "
      ]
    },
    {
      "cell_type": "code",
      "execution_count": 6,
      "metadata": {
        "id": "JPyVs4utojyx"
      },
      "outputs": [],
      "source": [
        "df2=df1.dropna(how='all')"
      ]
    },
    {
      "cell_type": "code",
      "execution_count": 7,
      "metadata": {
        "colab": {
          "base_uri": "https://localhost:8080/"
        },
        "id": "Z_dq5tmgojyy",
        "outputId": "eb675935-4db5-45c2-bcbb-a55ba71819b6"
      },
      "outputs": [
        {
          "data": {
            "text/plain": [
              "position          0\n",
              "company           0\n",
              "description       0\n",
              "reviews        1627\n",
              "location          0\n",
              "dtype: int64"
            ]
          },
          "execution_count": 7,
          "metadata": {},
          "output_type": "execute_result"
        }
      ],
      "source": [
        "df2.isna().sum()"
      ]
    },
    {
      "cell_type": "markdown",
      "metadata": {
        "id": "9uwYZv-LMtQT"
      },
      "source": [
        "Now we only left with one column with null values which is number of reviews.\n",
        "If there are no reviews for perticular position then we will asume it to be 0 \n",
        "so we will fill na with zero"
      ]
    },
    {
      "cell_type": "code",
      "execution_count": 8,
      "metadata": {
        "id": "cXzqU8PRojyy"
      },
      "outputs": [],
      "source": [
        "df3=df2.fillna(0)"
      ]
    },
    {
      "cell_type": "code",
      "execution_count": 9,
      "metadata": {
        "colab": {
          "base_uri": "https://localhost:8080/"
        },
        "id": "xiM4o4OcyWft",
        "outputId": "7c799311-3a8d-4a6d-dad8-b36bca844357"
      },
      "outputs": [
        {
          "data": {
            "text/plain": [
              "position       0\n",
              "company        0\n",
              "description    0\n",
              "reviews        0\n",
              "location       0\n",
              "dtype: int64"
            ]
          },
          "execution_count": 9,
          "metadata": {},
          "output_type": "execute_result"
        }
      ],
      "source": [
        "df3.isna().sum()"
      ]
    },
    {
      "cell_type": "code",
      "execution_count": 10,
      "metadata": {
        "colab": {
          "base_uri": "https://localhost:8080/",
          "height": 35
        },
        "id": "4VO41rLpyV9M",
        "outputId": "3ea73663-851a-4c61-ec38-617cc689df97"
      },
      "outputs": [
        {
          "data": {
            "text/plain": [
              "'salman'"
            ]
          },
          "execution_count": 10,
          "metadata": {},
          "output_type": "execute_result"
        }
      ],
      "source": [
        "test='salman  '\n",
        "test.rstrip()"
      ]
    },
    {
      "cell_type": "markdown",
      "metadata": {
        "id": "ffn3U6SlNJKV"
      },
      "source": [
        "# Cleaning Location Column\n",
        "we will use rstrip method on column location to remove blank spaces before or after the datapoint"
      ]
    },
    {
      "cell_type": "code",
      "execution_count": 11,
      "metadata": {
        "id": "55L0sV8syVV3"
      },
      "outputs": [],
      "source": [
        "df3['newlocation'] = [row.rstrip() for row in df3['location']]"
      ]
    },
    {
      "cell_type": "code",
      "execution_count": 12,
      "metadata": {
        "colab": {
          "base_uri": "https://localhost:8080/",
          "height": 319
        },
        "id": "GRrE16lHyUxi",
        "outputId": "5c25a385-d8d3-43c5-d6d1-04b0d676d9d9"
      },
      "outputs": [
        {
          "data": {
            "text/html": [
              "<div>\n",
              "<style scoped>\n",
              "    .dataframe tbody tr th:only-of-type {\n",
              "        vertical-align: middle;\n",
              "    }\n",
              "\n",
              "    .dataframe tbody tr th {\n",
              "        vertical-align: top;\n",
              "    }\n",
              "\n",
              "    .dataframe thead th {\n",
              "        text-align: right;\n",
              "    }\n",
              "</style>\n",
              "<table border=\"1\" class=\"dataframe\">\n",
              "  <thead>\n",
              "    <tr style=\"text-align: right;\">\n",
              "      <th></th>\n",
              "      <th>position</th>\n",
              "      <th>company</th>\n",
              "      <th>description</th>\n",
              "      <th>reviews</th>\n",
              "      <th>location</th>\n",
              "      <th>newlocation</th>\n",
              "    </tr>\n",
              "  </thead>\n",
              "  <tbody>\n",
              "    <tr>\n",
              "      <th>0</th>\n",
              "      <td>Development Director</td>\n",
              "      <td>ALS TDI</td>\n",
              "      <td>Development Director\\nALS Therapy Development ...</td>\n",
              "      <td>0.0</td>\n",
              "      <td>Atlanta, GA 30301</td>\n",
              "      <td>Atlanta, GA 30301</td>\n",
              "    </tr>\n",
              "    <tr>\n",
              "      <th>1</th>\n",
              "      <td>An Ostentatiously-Excitable Principal Research...</td>\n",
              "      <td>The Hexagon Lavish</td>\n",
              "      <td>Job Description\\n\\n\"The road that leads to acc...</td>\n",
              "      <td>0.0</td>\n",
              "      <td>Atlanta, GA</td>\n",
              "      <td>Atlanta, GA</td>\n",
              "    </tr>\n",
              "    <tr>\n",
              "      <th>2</th>\n",
              "      <td>Data Scientist</td>\n",
              "      <td>Xpert Staffing</td>\n",
              "      <td>Growing company located in the Atlanta, GA are...</td>\n",
              "      <td>0.0</td>\n",
              "      <td>Atlanta, GA</td>\n",
              "      <td>Atlanta, GA</td>\n",
              "    </tr>\n",
              "    <tr>\n",
              "      <th>3</th>\n",
              "      <td>Data Analyst</td>\n",
              "      <td>Operation HOPE</td>\n",
              "      <td>DEPARTMENT: Program OperationsPOSITION LOCATIO...</td>\n",
              "      <td>44.0</td>\n",
              "      <td>Atlanta, GA 30303</td>\n",
              "      <td>Atlanta, GA 30303</td>\n",
              "    </tr>\n",
              "    <tr>\n",
              "      <th>4</th>\n",
              "      <td>Assistant Professor -TT - Signal Processing &amp; ...</td>\n",
              "      <td>Emory University</td>\n",
              "      <td>DESCRIPTION\\nThe Emory University Department o...</td>\n",
              "      <td>550.0</td>\n",
              "      <td>Atlanta, GA</td>\n",
              "      <td>Atlanta, GA</td>\n",
              "    </tr>\n",
              "  </tbody>\n",
              "</table>\n",
              "</div>"
            ],
            "text/plain": [
              "                                            position             company  \\\n",
              "0                               Development Director             ALS TDI   \n",
              "1  An Ostentatiously-Excitable Principal Research...  The Hexagon Lavish   \n",
              "2                                     Data Scientist      Xpert Staffing   \n",
              "3                                       Data Analyst      Operation HOPE   \n",
              "4  Assistant Professor -TT - Signal Processing & ...    Emory University   \n",
              "\n",
              "                                         description  reviews  \\\n",
              "0  Development Director\\nALS Therapy Development ...      0.0   \n",
              "1  Job Description\\n\\n\"The road that leads to acc...      0.0   \n",
              "2  Growing company located in the Atlanta, GA are...      0.0   \n",
              "3  DEPARTMENT: Program OperationsPOSITION LOCATIO...     44.0   \n",
              "4  DESCRIPTION\\nThe Emory University Department o...    550.0   \n",
              "\n",
              "             location        newlocation  \n",
              "0  Atlanta, GA 30301   Atlanta, GA 30301  \n",
              "1         Atlanta, GA        Atlanta, GA  \n",
              "2         Atlanta, GA        Atlanta, GA  \n",
              "3  Atlanta, GA 30303   Atlanta, GA 30303  \n",
              "4         Atlanta, GA        Atlanta, GA  "
            ]
          },
          "execution_count": 12,
          "metadata": {},
          "output_type": "execute_result"
        }
      ],
      "source": [
        "df3.head()"
      ]
    },
    {
      "cell_type": "markdown",
      "metadata": {
        "id": "pU2OvtRQNe2I"
      },
      "source": [
        "now we will drop old location column as it will not be used "
      ]
    },
    {
      "cell_type": "code",
      "execution_count": 13,
      "metadata": {
        "id": "xaLWaARNyUIa"
      },
      "outputs": [],
      "source": [
        "df3.drop(['location'], axis = 1,inplace=True)"
      ]
    },
    {
      "cell_type": "code",
      "execution_count": 14,
      "metadata": {
        "colab": {
          "base_uri": "https://localhost:8080/",
          "height": 206
        },
        "id": "CQLjkE4oySxs",
        "outputId": "bffb6253-8486-4519-f0f1-1ed983fe076d"
      },
      "outputs": [
        {
          "data": {
            "text/html": [
              "<div>\n",
              "<style scoped>\n",
              "    .dataframe tbody tr th:only-of-type {\n",
              "        vertical-align: middle;\n",
              "    }\n",
              "\n",
              "    .dataframe tbody tr th {\n",
              "        vertical-align: top;\n",
              "    }\n",
              "\n",
              "    .dataframe thead th {\n",
              "        text-align: right;\n",
              "    }\n",
              "</style>\n",
              "<table border=\"1\" class=\"dataframe\">\n",
              "  <thead>\n",
              "    <tr style=\"text-align: right;\">\n",
              "      <th></th>\n",
              "      <th>position</th>\n",
              "      <th>company</th>\n",
              "      <th>description</th>\n",
              "      <th>reviews</th>\n",
              "      <th>newlocation</th>\n",
              "    </tr>\n",
              "  </thead>\n",
              "  <tbody>\n",
              "    <tr>\n",
              "      <th>0</th>\n",
              "      <td>Development Director</td>\n",
              "      <td>ALS TDI</td>\n",
              "      <td>Development Director\\nALS Therapy Development ...</td>\n",
              "      <td>0.0</td>\n",
              "      <td>Atlanta, GA 30301</td>\n",
              "    </tr>\n",
              "    <tr>\n",
              "      <th>1</th>\n",
              "      <td>An Ostentatiously-Excitable Principal Research...</td>\n",
              "      <td>The Hexagon Lavish</td>\n",
              "      <td>Job Description\\n\\n\"The road that leads to acc...</td>\n",
              "      <td>0.0</td>\n",
              "      <td>Atlanta, GA</td>\n",
              "    </tr>\n",
              "    <tr>\n",
              "      <th>2</th>\n",
              "      <td>Data Scientist</td>\n",
              "      <td>Xpert Staffing</td>\n",
              "      <td>Growing company located in the Atlanta, GA are...</td>\n",
              "      <td>0.0</td>\n",
              "      <td>Atlanta, GA</td>\n",
              "    </tr>\n",
              "    <tr>\n",
              "      <th>3</th>\n",
              "      <td>Data Analyst</td>\n",
              "      <td>Operation HOPE</td>\n",
              "      <td>DEPARTMENT: Program OperationsPOSITION LOCATIO...</td>\n",
              "      <td>44.0</td>\n",
              "      <td>Atlanta, GA 30303</td>\n",
              "    </tr>\n",
              "    <tr>\n",
              "      <th>4</th>\n",
              "      <td>Assistant Professor -TT - Signal Processing &amp; ...</td>\n",
              "      <td>Emory University</td>\n",
              "      <td>DESCRIPTION\\nThe Emory University Department o...</td>\n",
              "      <td>550.0</td>\n",
              "      <td>Atlanta, GA</td>\n",
              "    </tr>\n",
              "  </tbody>\n",
              "</table>\n",
              "</div>"
            ],
            "text/plain": [
              "                                            position             company  \\\n",
              "0                               Development Director             ALS TDI   \n",
              "1  An Ostentatiously-Excitable Principal Research...  The Hexagon Lavish   \n",
              "2                                     Data Scientist      Xpert Staffing   \n",
              "3                                       Data Analyst      Operation HOPE   \n",
              "4  Assistant Professor -TT - Signal Processing & ...    Emory University   \n",
              "\n",
              "                                         description  reviews  \\\n",
              "0  Development Director\\nALS Therapy Development ...      0.0   \n",
              "1  Job Description\\n\\n\"The road that leads to acc...      0.0   \n",
              "2  Growing company located in the Atlanta, GA are...      0.0   \n",
              "3  DEPARTMENT: Program OperationsPOSITION LOCATIO...     44.0   \n",
              "4  DESCRIPTION\\nThe Emory University Department o...    550.0   \n",
              "\n",
              "         newlocation  \n",
              "0  Atlanta, GA 30301  \n",
              "1        Atlanta, GA  \n",
              "2        Atlanta, GA  \n",
              "3  Atlanta, GA 30303  \n",
              "4        Atlanta, GA  "
            ]
          },
          "execution_count": 14,
          "metadata": {},
          "output_type": "execute_result"
        }
      ],
      "source": [
        "df3.head()"
      ]
    },
    {
      "cell_type": "markdown",
      "metadata": {
        "id": "Vt8GxXeyNnln"
      },
      "source": [
        "By using regular expression we will remove all the digits from location column and make values in the column in the format of \"City,state\""
      ]
    },
    {
      "cell_type": "code",
      "execution_count": 15,
      "metadata": {
        "id": "viBvIAqF1NDR"
      },
      "outputs": [],
      "source": [
        "import re\n",
        "df3['newlocation']=[re.sub('[\\s*]+[\\d]+[\\d]+[\\d]+[\\d]+[\\d]','',row) for row in df3['newlocation']]"
      ]
    },
    {
      "cell_type": "code",
      "execution_count": 16,
      "metadata": {
        "colab": {
          "base_uri": "https://localhost:8080/",
          "height": 206
        },
        "id": "xwNad-jq1PLE",
        "outputId": "0d2a8218-b37f-4abe-a3bc-dbcc4873ac75"
      },
      "outputs": [
        {
          "data": {
            "text/html": [
              "<div>\n",
              "<style scoped>\n",
              "    .dataframe tbody tr th:only-of-type {\n",
              "        vertical-align: middle;\n",
              "    }\n",
              "\n",
              "    .dataframe tbody tr th {\n",
              "        vertical-align: top;\n",
              "    }\n",
              "\n",
              "    .dataframe thead th {\n",
              "        text-align: right;\n",
              "    }\n",
              "</style>\n",
              "<table border=\"1\" class=\"dataframe\">\n",
              "  <thead>\n",
              "    <tr style=\"text-align: right;\">\n",
              "      <th></th>\n",
              "      <th>position</th>\n",
              "      <th>company</th>\n",
              "      <th>description</th>\n",
              "      <th>reviews</th>\n",
              "      <th>newlocation</th>\n",
              "    </tr>\n",
              "  </thead>\n",
              "  <tbody>\n",
              "    <tr>\n",
              "      <th>0</th>\n",
              "      <td>Development Director</td>\n",
              "      <td>ALS TDI</td>\n",
              "      <td>Development Director\\nALS Therapy Development ...</td>\n",
              "      <td>0.0</td>\n",
              "      <td>Atlanta, GA</td>\n",
              "    </tr>\n",
              "    <tr>\n",
              "      <th>1</th>\n",
              "      <td>An Ostentatiously-Excitable Principal Research...</td>\n",
              "      <td>The Hexagon Lavish</td>\n",
              "      <td>Job Description\\n\\n\"The road that leads to acc...</td>\n",
              "      <td>0.0</td>\n",
              "      <td>Atlanta, GA</td>\n",
              "    </tr>\n",
              "    <tr>\n",
              "      <th>2</th>\n",
              "      <td>Data Scientist</td>\n",
              "      <td>Xpert Staffing</td>\n",
              "      <td>Growing company located in the Atlanta, GA are...</td>\n",
              "      <td>0.0</td>\n",
              "      <td>Atlanta, GA</td>\n",
              "    </tr>\n",
              "    <tr>\n",
              "      <th>3</th>\n",
              "      <td>Data Analyst</td>\n",
              "      <td>Operation HOPE</td>\n",
              "      <td>DEPARTMENT: Program OperationsPOSITION LOCATIO...</td>\n",
              "      <td>44.0</td>\n",
              "      <td>Atlanta, GA</td>\n",
              "    </tr>\n",
              "    <tr>\n",
              "      <th>4</th>\n",
              "      <td>Assistant Professor -TT - Signal Processing &amp; ...</td>\n",
              "      <td>Emory University</td>\n",
              "      <td>DESCRIPTION\\nThe Emory University Department o...</td>\n",
              "      <td>550.0</td>\n",
              "      <td>Atlanta, GA</td>\n",
              "    </tr>\n",
              "  </tbody>\n",
              "</table>\n",
              "</div>"
            ],
            "text/plain": [
              "                                            position             company  \\\n",
              "0                               Development Director             ALS TDI   \n",
              "1  An Ostentatiously-Excitable Principal Research...  The Hexagon Lavish   \n",
              "2                                     Data Scientist      Xpert Staffing   \n",
              "3                                       Data Analyst      Operation HOPE   \n",
              "4  Assistant Professor -TT - Signal Processing & ...    Emory University   \n",
              "\n",
              "                                         description  reviews  newlocation  \n",
              "0  Development Director\\nALS Therapy Development ...      0.0  Atlanta, GA  \n",
              "1  Job Description\\n\\n\"The road that leads to acc...      0.0  Atlanta, GA  \n",
              "2  Growing company located in the Atlanta, GA are...      0.0  Atlanta, GA  \n",
              "3  DEPARTMENT: Program OperationsPOSITION LOCATIO...     44.0  Atlanta, GA  \n",
              "4  DESCRIPTION\\nThe Emory University Department o...    550.0  Atlanta, GA  "
            ]
          },
          "execution_count": 16,
          "metadata": {},
          "output_type": "execute_result"
        }
      ],
      "source": [
        "df3.head()"
      ]
    },
    {
      "cell_type": "markdown",
      "metadata": {
        "id": "W_j89MIUN7QV"
      },
      "source": [
        "Now lets split the location column into City and State for further use"
      ]
    },
    {
      "cell_type": "code",
      "execution_count": 17,
      "metadata": {
        "colab": {
          "base_uri": "https://localhost:8080/",
          "height": 250
        },
        "id": "dFnG1F5G1R7O",
        "outputId": "51ff654d-95f1-41bb-8962-4ab5d288c93d"
      },
      "outputs": [
        {
          "data": {
            "text/html": [
              "<div>\n",
              "<style scoped>\n",
              "    .dataframe tbody tr th:only-of-type {\n",
              "        vertical-align: middle;\n",
              "    }\n",
              "\n",
              "    .dataframe tbody tr th {\n",
              "        vertical-align: top;\n",
              "    }\n",
              "\n",
              "    .dataframe thead th {\n",
              "        text-align: right;\n",
              "    }\n",
              "</style>\n",
              "<table border=\"1\" class=\"dataframe\">\n",
              "  <thead>\n",
              "    <tr style=\"text-align: right;\">\n",
              "      <th></th>\n",
              "      <th>position</th>\n",
              "      <th>company</th>\n",
              "      <th>description</th>\n",
              "      <th>reviews</th>\n",
              "      <th>newlocation</th>\n",
              "      <th>City</th>\n",
              "      <th>state</th>\n",
              "    </tr>\n",
              "  </thead>\n",
              "  <tbody>\n",
              "    <tr>\n",
              "      <th>0</th>\n",
              "      <td>Development Director</td>\n",
              "      <td>ALS TDI</td>\n",
              "      <td>Development Director\\nALS Therapy Development ...</td>\n",
              "      <td>0.0</td>\n",
              "      <td>Atlanta, GA</td>\n",
              "      <td>Atlanta</td>\n",
              "      <td>GA</td>\n",
              "    </tr>\n",
              "    <tr>\n",
              "      <th>1</th>\n",
              "      <td>An Ostentatiously-Excitable Principal Research...</td>\n",
              "      <td>The Hexagon Lavish</td>\n",
              "      <td>Job Description\\n\\n\"The road that leads to acc...</td>\n",
              "      <td>0.0</td>\n",
              "      <td>Atlanta, GA</td>\n",
              "      <td>Atlanta</td>\n",
              "      <td>GA</td>\n",
              "    </tr>\n",
              "    <tr>\n",
              "      <th>2</th>\n",
              "      <td>Data Scientist</td>\n",
              "      <td>Xpert Staffing</td>\n",
              "      <td>Growing company located in the Atlanta, GA are...</td>\n",
              "      <td>0.0</td>\n",
              "      <td>Atlanta, GA</td>\n",
              "      <td>Atlanta</td>\n",
              "      <td>GA</td>\n",
              "    </tr>\n",
              "    <tr>\n",
              "      <th>3</th>\n",
              "      <td>Data Analyst</td>\n",
              "      <td>Operation HOPE</td>\n",
              "      <td>DEPARTMENT: Program OperationsPOSITION LOCATIO...</td>\n",
              "      <td>44.0</td>\n",
              "      <td>Atlanta, GA</td>\n",
              "      <td>Atlanta</td>\n",
              "      <td>GA</td>\n",
              "    </tr>\n",
              "    <tr>\n",
              "      <th>4</th>\n",
              "      <td>Assistant Professor -TT - Signal Processing &amp; ...</td>\n",
              "      <td>Emory University</td>\n",
              "      <td>DESCRIPTION\\nThe Emory University Department o...</td>\n",
              "      <td>550.0</td>\n",
              "      <td>Atlanta, GA</td>\n",
              "      <td>Atlanta</td>\n",
              "      <td>GA</td>\n",
              "    </tr>\n",
              "  </tbody>\n",
              "</table>\n",
              "</div>"
            ],
            "text/plain": [
              "                                            position             company  \\\n",
              "0                               Development Director             ALS TDI   \n",
              "1  An Ostentatiously-Excitable Principal Research...  The Hexagon Lavish   \n",
              "2                                     Data Scientist      Xpert Staffing   \n",
              "3                                       Data Analyst      Operation HOPE   \n",
              "4  Assistant Professor -TT - Signal Processing & ...    Emory University   \n",
              "\n",
              "                                         description  reviews  newlocation  \\\n",
              "0  Development Director\\nALS Therapy Development ...      0.0  Atlanta, GA   \n",
              "1  Job Description\\n\\n\"The road that leads to acc...      0.0  Atlanta, GA   \n",
              "2  Growing company located in the Atlanta, GA are...      0.0  Atlanta, GA   \n",
              "3  DEPARTMENT: Program OperationsPOSITION LOCATIO...     44.0  Atlanta, GA   \n",
              "4  DESCRIPTION\\nThe Emory University Department o...    550.0  Atlanta, GA   \n",
              "\n",
              "      City state  \n",
              "0  Atlanta    GA  \n",
              "1  Atlanta    GA  \n",
              "2  Atlanta    GA  \n",
              "3  Atlanta    GA  \n",
              "4  Atlanta    GA  "
            ]
          },
          "execution_count": 17,
          "metadata": {},
          "output_type": "execute_result"
        }
      ],
      "source": [
        "df3[['City','state']] = df3['newlocation'].str.split(',', expand=True)\n",
        "df3.head()"
      ]
    },
    {
      "cell_type": "markdown",
      "metadata": {
        "id": "74L3HZAMOHoi"
      },
      "source": [
        "Drop the old newlocation column"
      ]
    },
    {
      "cell_type": "code",
      "execution_count": 18,
      "metadata": {
        "id": "UA29Arfb1Ru-"
      },
      "outputs": [],
      "source": [
        "df3.drop(['newlocation'], axis = 1,inplace=True)"
      ]
    },
    {
      "cell_type": "code",
      "execution_count": 19,
      "metadata": {
        "colab": {
          "base_uri": "https://localhost:8080/",
          "height": 206
        },
        "id": "ILXxODq61Rgn",
        "outputId": "b84a4959-7514-4419-9125-a58e4c56874f"
      },
      "outputs": [
        {
          "data": {
            "text/html": [
              "<div>\n",
              "<style scoped>\n",
              "    .dataframe tbody tr th:only-of-type {\n",
              "        vertical-align: middle;\n",
              "    }\n",
              "\n",
              "    .dataframe tbody tr th {\n",
              "        vertical-align: top;\n",
              "    }\n",
              "\n",
              "    .dataframe thead th {\n",
              "        text-align: right;\n",
              "    }\n",
              "</style>\n",
              "<table border=\"1\" class=\"dataframe\">\n",
              "  <thead>\n",
              "    <tr style=\"text-align: right;\">\n",
              "      <th></th>\n",
              "      <th>position</th>\n",
              "      <th>company</th>\n",
              "      <th>description</th>\n",
              "      <th>reviews</th>\n",
              "      <th>City</th>\n",
              "      <th>state</th>\n",
              "    </tr>\n",
              "  </thead>\n",
              "  <tbody>\n",
              "    <tr>\n",
              "      <th>0</th>\n",
              "      <td>Development Director</td>\n",
              "      <td>ALS TDI</td>\n",
              "      <td>Development Director\\nALS Therapy Development ...</td>\n",
              "      <td>0.0</td>\n",
              "      <td>Atlanta</td>\n",
              "      <td>GA</td>\n",
              "    </tr>\n",
              "    <tr>\n",
              "      <th>1</th>\n",
              "      <td>An Ostentatiously-Excitable Principal Research...</td>\n",
              "      <td>The Hexagon Lavish</td>\n",
              "      <td>Job Description\\n\\n\"The road that leads to acc...</td>\n",
              "      <td>0.0</td>\n",
              "      <td>Atlanta</td>\n",
              "      <td>GA</td>\n",
              "    </tr>\n",
              "    <tr>\n",
              "      <th>2</th>\n",
              "      <td>Data Scientist</td>\n",
              "      <td>Xpert Staffing</td>\n",
              "      <td>Growing company located in the Atlanta, GA are...</td>\n",
              "      <td>0.0</td>\n",
              "      <td>Atlanta</td>\n",
              "      <td>GA</td>\n",
              "    </tr>\n",
              "    <tr>\n",
              "      <th>3</th>\n",
              "      <td>Data Analyst</td>\n",
              "      <td>Operation HOPE</td>\n",
              "      <td>DEPARTMENT: Program OperationsPOSITION LOCATIO...</td>\n",
              "      <td>44.0</td>\n",
              "      <td>Atlanta</td>\n",
              "      <td>GA</td>\n",
              "    </tr>\n",
              "    <tr>\n",
              "      <th>4</th>\n",
              "      <td>Assistant Professor -TT - Signal Processing &amp; ...</td>\n",
              "      <td>Emory University</td>\n",
              "      <td>DESCRIPTION\\nThe Emory University Department o...</td>\n",
              "      <td>550.0</td>\n",
              "      <td>Atlanta</td>\n",
              "      <td>GA</td>\n",
              "    </tr>\n",
              "  </tbody>\n",
              "</table>\n",
              "</div>"
            ],
            "text/plain": [
              "                                            position             company  \\\n",
              "0                               Development Director             ALS TDI   \n",
              "1  An Ostentatiously-Excitable Principal Research...  The Hexagon Lavish   \n",
              "2                                     Data Scientist      Xpert Staffing   \n",
              "3                                       Data Analyst      Operation HOPE   \n",
              "4  Assistant Professor -TT - Signal Processing & ...    Emory University   \n",
              "\n",
              "                                         description  reviews     City state  \n",
              "0  Development Director\\nALS Therapy Development ...      0.0  Atlanta    GA  \n",
              "1  Job Description\\n\\n\"The road that leads to acc...      0.0  Atlanta    GA  \n",
              "2  Growing company located in the Atlanta, GA are...      0.0  Atlanta    GA  \n",
              "3  DEPARTMENT: Program OperationsPOSITION LOCATIO...     44.0  Atlanta    GA  \n",
              "4  DESCRIPTION\\nThe Emory University Department o...    550.0  Atlanta    GA  "
            ]
          },
          "execution_count": 19,
          "metadata": {},
          "output_type": "execute_result"
        }
      ],
      "source": [
        "df3.head()"
      ]
    },
    {
      "cell_type": "markdown",
      "metadata": {
        "id": "aq-tiqWAOQGk"
      },
      "source": [
        "# Cleaning Description column\n",
        "we will try to replace some word in description column by space so that we will get more clear data "
      ]
    },
    {
      "cell_type": "code",
      "execution_count": 20,
      "metadata": {
        "id": "l7_Y__lD2Voa"
      },
      "outputs": [],
      "source": [
        "df3['description']=[i.replace('\\n',' ')for i in df3['description']]\n",
        "df3['description']=[i.replace('Job','')for i in df3['description']]\n",
        "df3['description']=[i.replace('Description','')for i in df3['description']]"
      ]
    },
    {
      "cell_type": "code",
      "execution_count": 21,
      "metadata": {
        "colab": {
          "base_uri": "https://localhost:8080/",
          "height": 206
        },
        "id": "nFyjQYem1QmZ",
        "outputId": "cc94691c-947a-4176-e223-5c911ebe8ff3"
      },
      "outputs": [
        {
          "data": {
            "text/html": [
              "<div>\n",
              "<style scoped>\n",
              "    .dataframe tbody tr th:only-of-type {\n",
              "        vertical-align: middle;\n",
              "    }\n",
              "\n",
              "    .dataframe tbody tr th {\n",
              "        vertical-align: top;\n",
              "    }\n",
              "\n",
              "    .dataframe thead th {\n",
              "        text-align: right;\n",
              "    }\n",
              "</style>\n",
              "<table border=\"1\" class=\"dataframe\">\n",
              "  <thead>\n",
              "    <tr style=\"text-align: right;\">\n",
              "      <th></th>\n",
              "      <th>position</th>\n",
              "      <th>company</th>\n",
              "      <th>description</th>\n",
              "      <th>reviews</th>\n",
              "      <th>City</th>\n",
              "      <th>state</th>\n",
              "    </tr>\n",
              "  </thead>\n",
              "  <tbody>\n",
              "    <tr>\n",
              "      <th>0</th>\n",
              "      <td>Development Director</td>\n",
              "      <td>ALS TDI</td>\n",
              "      <td>Development Director ALS Therapy Development I...</td>\n",
              "      <td>0.0</td>\n",
              "      <td>Atlanta</td>\n",
              "      <td>GA</td>\n",
              "    </tr>\n",
              "    <tr>\n",
              "      <th>1</th>\n",
              "      <td>An Ostentatiously-Excitable Principal Research...</td>\n",
              "      <td>The Hexagon Lavish</td>\n",
              "      <td>\"The road that leads to accomplishment is n...</td>\n",
              "      <td>0.0</td>\n",
              "      <td>Atlanta</td>\n",
              "      <td>GA</td>\n",
              "    </tr>\n",
              "    <tr>\n",
              "      <th>2</th>\n",
              "      <td>Data Scientist</td>\n",
              "      <td>Xpert Staffing</td>\n",
              "      <td>Growing company located in the Atlanta, GA are...</td>\n",
              "      <td>0.0</td>\n",
              "      <td>Atlanta</td>\n",
              "      <td>GA</td>\n",
              "    </tr>\n",
              "    <tr>\n",
              "      <th>3</th>\n",
              "      <td>Data Analyst</td>\n",
              "      <td>Operation HOPE</td>\n",
              "      <td>DEPARTMENT: Program OperationsPOSITION LOCATIO...</td>\n",
              "      <td>44.0</td>\n",
              "      <td>Atlanta</td>\n",
              "      <td>GA</td>\n",
              "    </tr>\n",
              "    <tr>\n",
              "      <th>4</th>\n",
              "      <td>Assistant Professor -TT - Signal Processing &amp; ...</td>\n",
              "      <td>Emory University</td>\n",
              "      <td>DESCRIPTION The Emory University Department of...</td>\n",
              "      <td>550.0</td>\n",
              "      <td>Atlanta</td>\n",
              "      <td>GA</td>\n",
              "    </tr>\n",
              "  </tbody>\n",
              "</table>\n",
              "</div>"
            ],
            "text/plain": [
              "                                            position             company  \\\n",
              "0                               Development Director             ALS TDI   \n",
              "1  An Ostentatiously-Excitable Principal Research...  The Hexagon Lavish   \n",
              "2                                     Data Scientist      Xpert Staffing   \n",
              "3                                       Data Analyst      Operation HOPE   \n",
              "4  Assistant Professor -TT - Signal Processing & ...    Emory University   \n",
              "\n",
              "                                         description  reviews     City state  \n",
              "0  Development Director ALS Therapy Development I...      0.0  Atlanta    GA  \n",
              "1     \"The road that leads to accomplishment is n...      0.0  Atlanta    GA  \n",
              "2  Growing company located in the Atlanta, GA are...      0.0  Atlanta    GA  \n",
              "3  DEPARTMENT: Program OperationsPOSITION LOCATIO...     44.0  Atlanta    GA  \n",
              "4  DESCRIPTION The Emory University Department of...    550.0  Atlanta    GA  "
            ]
          },
          "execution_count": 21,
          "metadata": {},
          "output_type": "execute_result"
        }
      ],
      "source": [
        "df3.head()"
      ]
    },
    {
      "cell_type": "markdown",
      "metadata": {
        "id": "K-17Pg7XOd3k"
      },
      "source": [
        "we will lower all values beacuse it will easy to find occurance of specific wor "
      ]
    },
    {
      "cell_type": "code",
      "execution_count": 22,
      "metadata": {
        "id": "bLHMddRYE9jZ"
      },
      "outputs": [],
      "source": [
        "df3['description']=[f.lower() for f in df3.description]"
      ]
    },
    {
      "cell_type": "code",
      "execution_count": 23,
      "metadata": {
        "colab": {
          "base_uri": "https://localhost:8080/",
          "height": 206
        },
        "id": "TYRei39hE_v1",
        "outputId": "9f8065c5-4994-4bed-af97-3972d3249d6b"
      },
      "outputs": [
        {
          "data": {
            "text/html": [
              "<div>\n",
              "<style scoped>\n",
              "    .dataframe tbody tr th:only-of-type {\n",
              "        vertical-align: middle;\n",
              "    }\n",
              "\n",
              "    .dataframe tbody tr th {\n",
              "        vertical-align: top;\n",
              "    }\n",
              "\n",
              "    .dataframe thead th {\n",
              "        text-align: right;\n",
              "    }\n",
              "</style>\n",
              "<table border=\"1\" class=\"dataframe\">\n",
              "  <thead>\n",
              "    <tr style=\"text-align: right;\">\n",
              "      <th></th>\n",
              "      <th>position</th>\n",
              "      <th>company</th>\n",
              "      <th>description</th>\n",
              "      <th>reviews</th>\n",
              "      <th>City</th>\n",
              "      <th>state</th>\n",
              "    </tr>\n",
              "  </thead>\n",
              "  <tbody>\n",
              "    <tr>\n",
              "      <th>0</th>\n",
              "      <td>Development Director</td>\n",
              "      <td>ALS TDI</td>\n",
              "      <td>development director als therapy development i...</td>\n",
              "      <td>0.0</td>\n",
              "      <td>Atlanta</td>\n",
              "      <td>GA</td>\n",
              "    </tr>\n",
              "    <tr>\n",
              "      <th>1</th>\n",
              "      <td>An Ostentatiously-Excitable Principal Research...</td>\n",
              "      <td>The Hexagon Lavish</td>\n",
              "      <td>\"the road that leads to accomplishment is n...</td>\n",
              "      <td>0.0</td>\n",
              "      <td>Atlanta</td>\n",
              "      <td>GA</td>\n",
              "    </tr>\n",
              "    <tr>\n",
              "      <th>2</th>\n",
              "      <td>Data Scientist</td>\n",
              "      <td>Xpert Staffing</td>\n",
              "      <td>growing company located in the atlanta, ga are...</td>\n",
              "      <td>0.0</td>\n",
              "      <td>Atlanta</td>\n",
              "      <td>GA</td>\n",
              "    </tr>\n",
              "    <tr>\n",
              "      <th>3</th>\n",
              "      <td>Data Analyst</td>\n",
              "      <td>Operation HOPE</td>\n",
              "      <td>department: program operationsposition locatio...</td>\n",
              "      <td>44.0</td>\n",
              "      <td>Atlanta</td>\n",
              "      <td>GA</td>\n",
              "    </tr>\n",
              "    <tr>\n",
              "      <th>4</th>\n",
              "      <td>Assistant Professor -TT - Signal Processing &amp; ...</td>\n",
              "      <td>Emory University</td>\n",
              "      <td>description the emory university department of...</td>\n",
              "      <td>550.0</td>\n",
              "      <td>Atlanta</td>\n",
              "      <td>GA</td>\n",
              "    </tr>\n",
              "  </tbody>\n",
              "</table>\n",
              "</div>"
            ],
            "text/plain": [
              "                                            position             company  \\\n",
              "0                               Development Director             ALS TDI   \n",
              "1  An Ostentatiously-Excitable Principal Research...  The Hexagon Lavish   \n",
              "2                                     Data Scientist      Xpert Staffing   \n",
              "3                                       Data Analyst      Operation HOPE   \n",
              "4  Assistant Professor -TT - Signal Processing & ...    Emory University   \n",
              "\n",
              "                                         description  reviews     City state  \n",
              "0  development director als therapy development i...      0.0  Atlanta    GA  \n",
              "1     \"the road that leads to accomplishment is n...      0.0  Atlanta    GA  \n",
              "2  growing company located in the atlanta, ga are...      0.0  Atlanta    GA  \n",
              "3  department: program operationsposition locatio...     44.0  Atlanta    GA  \n",
              "4  description the emory university department of...    550.0  Atlanta    GA  "
            ]
          },
          "execution_count": 23,
          "metadata": {},
          "output_type": "execute_result"
        }
      ],
      "source": [
        "df3.head()"
      ]
    },
    {
      "cell_type": "markdown",
      "metadata": {
        "id": "vPcx-9GDPRD1"
      },
      "source": [
        "# Cleaning Company Column\n",
        "We will lower all the data for uniformality\n"
      ]
    },
    {
      "cell_type": "code",
      "execution_count": 24,
      "metadata": {
        "id": "EbxmzT7XE_U2"
      },
      "outputs": [],
      "source": [
        "df3['company']=[v.lower() for v in df3.company]"
      ]
    },
    {
      "cell_type": "code",
      "execution_count": 25,
      "metadata": {
        "colab": {
          "base_uri": "https://localhost:8080/"
        },
        "id": "tE-PH15UE_EZ",
        "outputId": "08968c4b-8e6c-4a6a-c5c4-32baaaff9c87"
      },
      "outputs": [
        {
          "data": {
            "text/plain": [
              "2211"
            ]
          },
          "execution_count": 25,
          "metadata": {},
          "output_type": "execute_result"
        }
      ],
      "source": [
        "len(df3.company.unique())"
      ]
    },
    {
      "cell_type": "markdown",
      "metadata": {
        "id": "yc9PNtb1Psaq"
      },
      "source": [
        "# Cleaning Position Column\n",
        "We will lower all the data for uniformality"
      ]
    },
    {
      "cell_type": "code",
      "execution_count": 26,
      "metadata": {
        "id": "wEZ6gQPoE-wS"
      },
      "outputs": [],
      "source": [
        "df3['position']=[g.lower() for g in df3.position]"
      ]
    },
    {
      "cell_type": "code",
      "execution_count": 27,
      "metadata": {
        "colab": {
          "base_uri": "https://localhost:8080/",
          "height": 206
        },
        "id": "b6IIZDH8GYuj",
        "outputId": "34c602b6-807c-4323-a9b9-e7fffa60edda"
      },
      "outputs": [
        {
          "data": {
            "text/html": [
              "<div>\n",
              "<style scoped>\n",
              "    .dataframe tbody tr th:only-of-type {\n",
              "        vertical-align: middle;\n",
              "    }\n",
              "\n",
              "    .dataframe tbody tr th {\n",
              "        vertical-align: top;\n",
              "    }\n",
              "\n",
              "    .dataframe thead th {\n",
              "        text-align: right;\n",
              "    }\n",
              "</style>\n",
              "<table border=\"1\" class=\"dataframe\">\n",
              "  <thead>\n",
              "    <tr style=\"text-align: right;\">\n",
              "      <th></th>\n",
              "      <th>position</th>\n",
              "      <th>company</th>\n",
              "      <th>description</th>\n",
              "      <th>reviews</th>\n",
              "      <th>City</th>\n",
              "      <th>state</th>\n",
              "    </tr>\n",
              "  </thead>\n",
              "  <tbody>\n",
              "    <tr>\n",
              "      <th>0</th>\n",
              "      <td>development director</td>\n",
              "      <td>als tdi</td>\n",
              "      <td>development director als therapy development i...</td>\n",
              "      <td>0.0</td>\n",
              "      <td>Atlanta</td>\n",
              "      <td>GA</td>\n",
              "    </tr>\n",
              "    <tr>\n",
              "      <th>1</th>\n",
              "      <td>an ostentatiously-excitable principal research...</td>\n",
              "      <td>the hexagon lavish</td>\n",
              "      <td>\"the road that leads to accomplishment is n...</td>\n",
              "      <td>0.0</td>\n",
              "      <td>Atlanta</td>\n",
              "      <td>GA</td>\n",
              "    </tr>\n",
              "    <tr>\n",
              "      <th>2</th>\n",
              "      <td>data scientist</td>\n",
              "      <td>xpert staffing</td>\n",
              "      <td>growing company located in the atlanta, ga are...</td>\n",
              "      <td>0.0</td>\n",
              "      <td>Atlanta</td>\n",
              "      <td>GA</td>\n",
              "    </tr>\n",
              "    <tr>\n",
              "      <th>3</th>\n",
              "      <td>data analyst</td>\n",
              "      <td>operation hope</td>\n",
              "      <td>department: program operationsposition locatio...</td>\n",
              "      <td>44.0</td>\n",
              "      <td>Atlanta</td>\n",
              "      <td>GA</td>\n",
              "    </tr>\n",
              "    <tr>\n",
              "      <th>4</th>\n",
              "      <td>assistant professor -tt - signal processing &amp; ...</td>\n",
              "      <td>emory university</td>\n",
              "      <td>description the emory university department of...</td>\n",
              "      <td>550.0</td>\n",
              "      <td>Atlanta</td>\n",
              "      <td>GA</td>\n",
              "    </tr>\n",
              "  </tbody>\n",
              "</table>\n",
              "</div>"
            ],
            "text/plain": [
              "                                            position             company  \\\n",
              "0                               development director             als tdi   \n",
              "1  an ostentatiously-excitable principal research...  the hexagon lavish   \n",
              "2                                     data scientist      xpert staffing   \n",
              "3                                       data analyst      operation hope   \n",
              "4  assistant professor -tt - signal processing & ...    emory university   \n",
              "\n",
              "                                         description  reviews     City state  \n",
              "0  development director als therapy development i...      0.0  Atlanta    GA  \n",
              "1     \"the road that leads to accomplishment is n...      0.0  Atlanta    GA  \n",
              "2  growing company located in the atlanta, ga are...      0.0  Atlanta    GA  \n",
              "3  department: program operationsposition locatio...     44.0  Atlanta    GA  \n",
              "4  description the emory university department of...    550.0  Atlanta    GA  "
            ]
          },
          "execution_count": 27,
          "metadata": {},
          "output_type": "execute_result"
        }
      ],
      "source": [
        "df3.head()"
      ]
    },
    {
      "cell_type": "markdown",
      "metadata": {
        "id": "jSFT_Stvojyy"
      },
      "source": [
        "## Exploratory Analysis and Visualization\n",
        "\n",
        "**TODO** - write some explanation here.\n",
        "\n"
      ]
    },
    {
      "cell_type": "markdown",
      "metadata": {
        "id": "MimIsHTJojyy"
      },
      "source": [
        "Let's begin by importing`matplotlib.pyplot` and `seaborn`."
      ]
    },
    {
      "cell_type": "code",
      "execution_count": 28,
      "metadata": {
        "id": "i6Foj15lojyz"
      },
      "outputs": [],
      "source": [
        "import seaborn as sns\n",
        "import matplotlib\n",
        "import matplotlib.pyplot as plt\n",
        "%matplotlib inline\n",
        "\n",
        "sns.set_style('whitegrid')\n",
        "matplotlib.rcParams['font.size'] = 14\n",
        "matplotlib.rcParams['figure.figsize'] = (9, 5)\n",
        "matplotlib.rcParams['figure.facecolor'] = '#00000000'"
      ]
    },
    {
      "cell_type": "markdown",
      "metadata": {
        "id": "qaVsFtaWojyz"
      },
      "source": [
        "**TODO** - Explore one or more columns by plotting a graph below, and add some explanation about it\n",
        "\n",
        "exploring position column and classify roles in 3 main category i.e. Data scientist , Data Analyst and Data engineer"
      ]
    },
    {
      "cell_type": "markdown",
      "metadata": {
        "id": "-GLwxGLbQSmk"
      },
      "source": [
        "# Analyzing position column"
      ]
    },
    {
      "cell_type": "code",
      "execution_count": 29,
      "metadata": {
        "colab": {
          "base_uri": "https://localhost:8080/"
        },
        "id": "xfBjmRuuojyz",
        "outputId": "0fdee4a1-c338-4ba4-f49f-bdaaae305fbb"
      },
      "outputs": [
        {
          "data": {
            "text/plain": [
              "6953"
            ]
          },
          "execution_count": 29,
          "metadata": {},
          "output_type": "execute_result"
        }
      ],
      "source": [
        "total_positions=df3.position.shape[0]\n",
        "total_positions"
      ]
    },
    {
      "cell_type": "markdown",
      "metadata": {
        "id": "A1eLJJ2dQaSQ"
      },
      "source": [
        "We will take addition of count for common keywords for different roles so that we can categories them into 3 main categories"
      ]
    },
    {
      "cell_type": "code",
      "execution_count": null,
      "metadata": {
        "colab": {
          "base_uri": "https://localhost:8080/"
        },
        "id": "6gruv_gGojyz",
        "outputId": "d2c52d73-5e01-4e77-a50b-0ccfacd2a05f"
      },
      "outputs": [],
      "source": [
        "no_of_data_scientist=[a.count('science') for a in df3.position]+[z.count('scientist') for z in df3.position]+[b.count('ml') for b in df3.position]+[z.count('machine learning') for z in df3.position]+[z.count('deep learning') for z in df3.position]+[w.count('research') for w in df3.position]\n",
        "no_of_data_scientist"
      ]
    },
    {
      "cell_type": "code",
      "execution_count": 31,
      "metadata": {
        "colab": {
          "base_uri": "https://localhost:8080/"
        },
        "id": "rRaDhUepLNRU",
        "outputId": "d6e980e2-aef6-4f4e-b928-27ccb1f0aea0"
      },
      "outputs": [
        {
          "data": {
            "text/plain": [
              "4834"
            ]
          },
          "execution_count": 31,
          "metadata": {},
          "output_type": "execute_result"
        }
      ],
      "source": [
        "No_of_data_scientist=pd.Series(no_of_data_scientist).sum()\n",
        "No_of_data_scientist"
      ]
    },
    {
      "cell_type": "markdown",
      "metadata": {
        "id": "7BAP-1OzQylE"
      },
      "source": [
        "Same for data analyst we will count number of data analyst positions "
      ]
    },
    {
      "cell_type": "code",
      "execution_count": 32,
      "metadata": {
        "id": "xlGm1mX6LMM2"
      },
      "outputs": [],
      "source": [
        "no_of_data_analyst=[c.count('analyst') for c in df3.position]"
      ]
    },
    {
      "cell_type": "code",
      "execution_count": 33,
      "metadata": {
        "colab": {
          "base_uri": "https://localhost:8080/"
        },
        "id": "4Pr_msg6LLlQ",
        "outputId": "fb2e1820-c7d2-47a4-dad7-baed544d9be4"
      },
      "outputs": [
        {
          "data": {
            "text/plain": [
              "889"
            ]
          },
          "execution_count": 33,
          "metadata": {},
          "output_type": "execute_result"
        }
      ],
      "source": [
        "No_of_data_analyst=pd.Series(no_of_data_analyst).sum()\n",
        "No_of_data_analyst"
      ]
    },
    {
      "cell_type": "markdown",
      "metadata": {
        "id": "uSXQUOiVQ8Tc"
      },
      "source": [
        "Now for data engineer we will add count "
      ]
    },
    {
      "cell_type": "code",
      "execution_count": 34,
      "metadata": {
        "id": "BuYDGj_hojyz"
      },
      "outputs": [],
      "source": [
        "no_of_data_engineer=[d.count('data engineer') for d in df3.position]+[e.count('data engineering') for e in df3.position]+[r.count('etl') for r in df3.position]+[a.count('architect') for a in df3.position]+[b.count('hadoop') for b in df3.position]+[c.count('warehouse') for c in df3.position]"
      ]
    },
    {
      "cell_type": "code",
      "execution_count": 35,
      "metadata": {
        "colab": {
          "base_uri": "https://localhost:8080/"
        },
        "id": "bk7aGiFbojyz",
        "outputId": "cf576402-00fd-4bc9-ec87-f1b96343ab6a"
      },
      "outputs": [
        {
          "data": {
            "text/plain": [
              "299"
            ]
          },
          "execution_count": 35,
          "metadata": {},
          "output_type": "execute_result"
        }
      ],
      "source": [
        "No_of_data_engineer=pd.Series(no_of_data_engineer).sum()\n",
        "No_of_data_engineer"
      ]
    },
    {
      "cell_type": "markdown",
      "metadata": {
        "id": "8ii-Y-VFRCkq"
      },
      "source": [
        "Now we will draw a pie chart so that we can easily see how many perctage job opening are of specific type "
      ]
    },
    {
      "cell_type": "code",
      "execution_count": 36,
      "metadata": {
        "colab": {
          "base_uri": "https://localhost:8080/",
          "height": 341
        },
        "id": "wHU1jFPHSbyf",
        "outputId": "532a9fac-deee-4851-fafe-1fb2fe08a350"
      },
      "outputs": [
        {
          "data": {
            "image/png": "[encoded data removed]",
            "text/plain": [
              "<Figure size 648x360 with 1 Axes>"
            ]
          },
          "metadata": {},
          "output_type": "display_data"
        },
        {
          "data": {
            "text/plain": [
              "<Figure size 648x360 with 0 Axes>"
            ]
          },
          "metadata": {},
          "output_type": "display_data"
        }
      ],
      "source": [
        "\n",
        "data = [(299/6953),(889/6953),(4834/6953),(931/6953)]\n",
        "labels = ['data_engineer', 'data analyst', 'data scientist','other']\n",
        "\n",
        "#define Seaborn color palette to use\n",
        "colors = sns.color_palette('pastel')[0:5]\n",
        "\n",
        "#create pie chart\n",
        "plt.pie(data, labels = labels, colors = colors, autopct='%.0f%%');\n",
        "\n",
        "plt.title('Different roles');\n",
        "plt.show();\n",
        "\n",
        "plt.savefig('Different roles.png');"
      ]
    },
    {
      "cell_type": "markdown",
      "metadata": {
        "id": "74xfzmusRR6c"
      },
      "source": [
        "From the above pie chart we can clearly say that there 70 jobs are for data scientist"
      ]
    },
    {
      "cell_type": "markdown",
      "metadata": {
        "id": "tr7BRQrVojyz"
      },
      "source": [
        "# Analyse company column"
      ]
    },
    {
      "cell_type": "code",
      "execution_count": 37,
      "metadata": {
        "colab": {
          "base_uri": "https://localhost:8080/",
          "height": 206
        },
        "id": "qTxwiHv8SZV3",
        "outputId": "66c590b1-a38b-4387-e2da-e777505be424"
      },
      "outputs": [
        {
          "data": {
            "text/html": [
              "<div>\n",
              "<style scoped>\n",
              "    .dataframe tbody tr th:only-of-type {\n",
              "        vertical-align: middle;\n",
              "    }\n",
              "\n",
              "    .dataframe tbody tr th {\n",
              "        vertical-align: top;\n",
              "    }\n",
              "\n",
              "    .dataframe thead th {\n",
              "        text-align: right;\n",
              "    }\n",
              "</style>\n",
              "<table border=\"1\" class=\"dataframe\">\n",
              "  <thead>\n",
              "    <tr style=\"text-align: right;\">\n",
              "      <th></th>\n",
              "      <th>position</th>\n",
              "      <th>company</th>\n",
              "      <th>description</th>\n",
              "      <th>reviews</th>\n",
              "      <th>City</th>\n",
              "      <th>state</th>\n",
              "    </tr>\n",
              "  </thead>\n",
              "  <tbody>\n",
              "    <tr>\n",
              "      <th>0</th>\n",
              "      <td>development director</td>\n",
              "      <td>als tdi</td>\n",
              "      <td>development director als therapy development i...</td>\n",
              "      <td>0.0</td>\n",
              "      <td>Atlanta</td>\n",
              "      <td>GA</td>\n",
              "    </tr>\n",
              "    <tr>\n",
              "      <th>1</th>\n",
              "      <td>an ostentatiously-excitable principal research...</td>\n",
              "      <td>the hexagon lavish</td>\n",
              "      <td>\"the road that leads to accomplishment is n...</td>\n",
              "      <td>0.0</td>\n",
              "      <td>Atlanta</td>\n",
              "      <td>GA</td>\n",
              "    </tr>\n",
              "    <tr>\n",
              "      <th>2</th>\n",
              "      <td>data scientist</td>\n",
              "      <td>xpert staffing</td>\n",
              "      <td>growing company located in the atlanta, ga are...</td>\n",
              "      <td>0.0</td>\n",
              "      <td>Atlanta</td>\n",
              "      <td>GA</td>\n",
              "    </tr>\n",
              "    <tr>\n",
              "      <th>3</th>\n",
              "      <td>data analyst</td>\n",
              "      <td>operation hope</td>\n",
              "      <td>department: program operationsposition locatio...</td>\n",
              "      <td>44.0</td>\n",
              "      <td>Atlanta</td>\n",
              "      <td>GA</td>\n",
              "    </tr>\n",
              "    <tr>\n",
              "      <th>4</th>\n",
              "      <td>assistant professor -tt - signal processing &amp; ...</td>\n",
              "      <td>emory university</td>\n",
              "      <td>description the emory university department of...</td>\n",
              "      <td>550.0</td>\n",
              "      <td>Atlanta</td>\n",
              "      <td>GA</td>\n",
              "    </tr>\n",
              "  </tbody>\n",
              "</table>\n",
              "</div>"
            ],
            "text/plain": [
              "                                            position             company  \\\n",
              "0                               development director             als tdi   \n",
              "1  an ostentatiously-excitable principal research...  the hexagon lavish   \n",
              "2                                     data scientist      xpert staffing   \n",
              "3                                       data analyst      operation hope   \n",
              "4  assistant professor -tt - signal processing & ...    emory university   \n",
              "\n",
              "                                         description  reviews     City state  \n",
              "0  development director als therapy development i...      0.0  Atlanta    GA  \n",
              "1     \"the road that leads to accomplishment is n...      0.0  Atlanta    GA  \n",
              "2  growing company located in the atlanta, ga are...      0.0  Atlanta    GA  \n",
              "3  department: program operationsposition locatio...     44.0  Atlanta    GA  \n",
              "4  description the emory university department of...    550.0  Atlanta    GA  "
            ]
          },
          "execution_count": 37,
          "metadata": {},
          "output_type": "execute_result"
        }
      ],
      "source": [
        "df3.head()"
      ]
    },
    {
      "cell_type": "markdown",
      "metadata": {
        "id": "lm57rIn7RsTK"
      },
      "source": [
        "We will find out no of open positions for different comapany.\n",
        "for that we will group by company and use count function to count no of position"
      ]
    },
    {
      "cell_type": "code",
      "execution_count": 38,
      "metadata": {
        "colab": {
          "base_uri": "https://localhost:8080/",
          "height": 455
        },
        "id": "vldP_UlcUlvJ",
        "outputId": "f47c6453-1159-451f-d31d-eea67bf1c61e"
      },
      "outputs": [
        {
          "data": {
            "text/html": [
              "<div>\n",
              "<style scoped>\n",
              "    .dataframe tbody tr th:only-of-type {\n",
              "        vertical-align: middle;\n",
              "    }\n",
              "\n",
              "    .dataframe tbody tr th {\n",
              "        vertical-align: top;\n",
              "    }\n",
              "\n",
              "    .dataframe thead th {\n",
              "        text-align: right;\n",
              "    }\n",
              "</style>\n",
              "<table border=\"1\" class=\"dataframe\">\n",
              "  <thead>\n",
              "    <tr style=\"text-align: right;\">\n",
              "      <th></th>\n",
              "      <th>position</th>\n",
              "    </tr>\n",
              "    <tr>\n",
              "      <th>company</th>\n",
              "      <th></th>\n",
              "    </tr>\n",
              "  </thead>\n",
              "  <tbody>\n",
              "    <tr>\n",
              "      <th>10x genomics</th>\n",
              "      <td>1</td>\n",
              "    </tr>\n",
              "    <tr>\n",
              "      <th>1199seiu family of funds</th>\n",
              "      <td>1</td>\n",
              "    </tr>\n",
              "    <tr>\n",
              "      <th>1871</th>\n",
              "      <td>1</td>\n",
              "    </tr>\n",
              "    <tr>\n",
              "      <th>23andme</th>\n",
              "      <td>17</td>\n",
              "    </tr>\n",
              "    <tr>\n",
              "      <th>24 hour fitness</th>\n",
              "      <td>1</td>\n",
              "    </tr>\n",
              "    <tr>\n",
              "      <th>...</th>\n",
              "      <td>...</td>\n",
              "    </tr>\n",
              "    <tr>\n",
              "      <th>zylotech</th>\n",
              "      <td>2</td>\n",
              "    </tr>\n",
              "    <tr>\n",
              "      <th>zymergen</th>\n",
              "      <td>6</td>\n",
              "    </tr>\n",
              "    <tr>\n",
              "      <th>zynga</th>\n",
              "      <td>2</td>\n",
              "    </tr>\n",
              "    <tr>\n",
              "      <th>øptimus consulting</th>\n",
              "      <td>1</td>\n",
              "    </tr>\n",
              "    <tr>\n",
              "      <th>쿠팡</th>\n",
              "      <td>2</td>\n",
              "    </tr>\n",
              "  </tbody>\n",
              "</table>\n",
              "<p>2211 rows × 1 columns</p>\n",
              "</div>"
            ],
            "text/plain": [
              "                          position\n",
              "company                           \n",
              "10x genomics                     1\n",
              "1199seiu family of funds         1\n",
              "1871                             1\n",
              "23andme                         17\n",
              "24 hour fitness                  1\n",
              "...                            ...\n",
              "zylotech                         2\n",
              "zymergen                         6\n",
              "zynga                            2\n",
              "øptimus consulting               1\n",
              "쿠팡                               2\n",
              "\n",
              "[2211 rows x 1 columns]"
            ]
          },
          "execution_count": 38,
          "metadata": {},
          "output_type": "execute_result"
        }
      ],
      "source": [
        "company_wise_position=df3.groupby('company')[['position']].count()\n",
        "company_wise_position"
      ]
    },
    {
      "cell_type": "markdown",
      "metadata": {
        "id": "IDi4qzd-SVeQ"
      },
      "source": [
        "Now we will sort values to find out top companies"
      ]
    },
    {
      "cell_type": "code",
      "execution_count": 39,
      "metadata": {
        "colab": {
          "base_uri": "https://localhost:8080/",
          "height": 237
        },
        "id": "YSKxjkuVUl6A",
        "outputId": "9568a816-a6b3-4a0a-c9a2-d1d2eb5a6bc7"
      },
      "outputs": [
        {
          "data": {
            "text/html": [
              "<div>\n",
              "<style scoped>\n",
              "    .dataframe tbody tr th:only-of-type {\n",
              "        vertical-align: middle;\n",
              "    }\n",
              "\n",
              "    .dataframe tbody tr th {\n",
              "        vertical-align: top;\n",
              "    }\n",
              "\n",
              "    .dataframe thead th {\n",
              "        text-align: right;\n",
              "    }\n",
              "</style>\n",
              "<table border=\"1\" class=\"dataframe\">\n",
              "  <thead>\n",
              "    <tr style=\"text-align: right;\">\n",
              "      <th></th>\n",
              "      <th>position</th>\n",
              "    </tr>\n",
              "    <tr>\n",
              "      <th>company</th>\n",
              "      <th></th>\n",
              "    </tr>\n",
              "  </thead>\n",
              "  <tbody>\n",
              "    <tr>\n",
              "      <th>amazon.com</th>\n",
              "      <td>358</td>\n",
              "    </tr>\n",
              "    <tr>\n",
              "      <th>ball aerospace</th>\n",
              "      <td>187</td>\n",
              "    </tr>\n",
              "    <tr>\n",
              "      <th>microsoft</th>\n",
              "      <td>137</td>\n",
              "    </tr>\n",
              "    <tr>\n",
              "      <th>google</th>\n",
              "      <td>134</td>\n",
              "    </tr>\n",
              "    <tr>\n",
              "      <th>nyu langone health</th>\n",
              "      <td>77</td>\n",
              "    </tr>\n",
              "  </tbody>\n",
              "</table>\n",
              "</div>"
            ],
            "text/plain": [
              "                    position\n",
              "company                     \n",
              "amazon.com               358\n",
              "ball aerospace           187\n",
              "microsoft                137\n",
              "google                   134\n",
              "nyu langone health        77"
            ]
          },
          "execution_count": 39,
          "metadata": {},
          "output_type": "execute_result"
        }
      ],
      "source": [
        "top_companies=company_wise_position.sort_values(by='position',ascending=False)\n",
        "Top_employers=top_companies.head(15)\n",
        "Top_employers.head()"
      ]
    },
    {
      "cell_type": "markdown",
      "metadata": {
        "id": "YtvjktYKSkgf"
      },
      "source": [
        "\n",
        "Now lests represt above data on graph to simply analyze"
      ]
    },
    {
      "cell_type": "code",
      "execution_count": 40,
      "metadata": {
        "colab": {
          "base_uri": "https://localhost:8080/",
          "height": 275
        },
        "id": "BL9K5NEBUmBY",
        "outputId": "e1f78fa8-5ff4-403e-cf1f-094a986f7d6b"
      },
      "outputs": [
        {
          "data": {
            "image/png": "[encoded data removed]",
            "text/plain": [
              "<Figure size 3600x720 with 1 Axes>"
            ]
          },
          "metadata": {
            "needs_background": "light"
          },
          "output_type": "display_data"
        }
      ],
      "source": [
        "plt.figure(figsize=(50,10))\n",
        "\n",
        "plt.bar(Top_employers.index,Top_employers['position'],width=0.5,color='red')\n",
        "\n",
        "plt.title('Top Data science Employers',fontsize=30)\n",
        "\n",
        "plt.xlabel('Employer',fontsize=30);\n",
        "plt.ylabel('No of Positions',fontsize=28);\n",
        "\n",
        "plt.savefig('Top Data science Employers.png')"
      ]
    },
    {
      "cell_type": "markdown",
      "metadata": {
        "id": "_rLT-xG0Sua3"
      },
      "source": [
        "From the above chart we can say that amazon is top employer"
      ]
    },
    {
      "cell_type": "markdown",
      "metadata": {
        "id": "KbYCcP8vojyz"
      },
      "source": [
        "# anlyzing Description column"
      ]
    },
    {
      "cell_type": "code",
      "execution_count": 41,
      "metadata": {
        "colab": {
          "base_uri": "https://localhost:8080/",
          "height": 206
        },
        "id": "xC_GCeBLUiXG",
        "outputId": "e7c04fbd-664d-42e7-c884-43bf1d3fb7f0"
      },
      "outputs": [
        {
          "data": {
            "text/html": [
              "<div>\n",
              "<style scoped>\n",
              "    .dataframe tbody tr th:only-of-type {\n",
              "        vertical-align: middle;\n",
              "    }\n",
              "\n",
              "    .dataframe tbody tr th {\n",
              "        vertical-align: top;\n",
              "    }\n",
              "\n",
              "    .dataframe thead th {\n",
              "        text-align: right;\n",
              "    }\n",
              "</style>\n",
              "<table border=\"1\" class=\"dataframe\">\n",
              "  <thead>\n",
              "    <tr style=\"text-align: right;\">\n",
              "      <th></th>\n",
              "      <th>position</th>\n",
              "      <th>company</th>\n",
              "      <th>description</th>\n",
              "      <th>reviews</th>\n",
              "      <th>City</th>\n",
              "      <th>state</th>\n",
              "    </tr>\n",
              "  </thead>\n",
              "  <tbody>\n",
              "    <tr>\n",
              "      <th>0</th>\n",
              "      <td>development director</td>\n",
              "      <td>als tdi</td>\n",
              "      <td>development director als therapy development i...</td>\n",
              "      <td>0.0</td>\n",
              "      <td>Atlanta</td>\n",
              "      <td>GA</td>\n",
              "    </tr>\n",
              "    <tr>\n",
              "      <th>1</th>\n",
              "      <td>an ostentatiously-excitable principal research...</td>\n",
              "      <td>the hexagon lavish</td>\n",
              "      <td>\"the road that leads to accomplishment is n...</td>\n",
              "      <td>0.0</td>\n",
              "      <td>Atlanta</td>\n",
              "      <td>GA</td>\n",
              "    </tr>\n",
              "    <tr>\n",
              "      <th>2</th>\n",
              "      <td>data scientist</td>\n",
              "      <td>xpert staffing</td>\n",
              "      <td>growing company located in the atlanta, ga are...</td>\n",
              "      <td>0.0</td>\n",
              "      <td>Atlanta</td>\n",
              "      <td>GA</td>\n",
              "    </tr>\n",
              "    <tr>\n",
              "      <th>3</th>\n",
              "      <td>data analyst</td>\n",
              "      <td>operation hope</td>\n",
              "      <td>department: program operationsposition locatio...</td>\n",
              "      <td>44.0</td>\n",
              "      <td>Atlanta</td>\n",
              "      <td>GA</td>\n",
              "    </tr>\n",
              "    <tr>\n",
              "      <th>4</th>\n",
              "      <td>assistant professor -tt - signal processing &amp; ...</td>\n",
              "      <td>emory university</td>\n",
              "      <td>description the emory university department of...</td>\n",
              "      <td>550.0</td>\n",
              "      <td>Atlanta</td>\n",
              "      <td>GA</td>\n",
              "    </tr>\n",
              "  </tbody>\n",
              "</table>\n",
              "</div>"
            ],
            "text/plain": [
              "                                            position             company  \\\n",
              "0                               development director             als tdi   \n",
              "1  an ostentatiously-excitable principal research...  the hexagon lavish   \n",
              "2                                     data scientist      xpert staffing   \n",
              "3                                       data analyst      operation hope   \n",
              "4  assistant professor -tt - signal processing & ...    emory university   \n",
              "\n",
              "                                         description  reviews     City state  \n",
              "0  development director als therapy development i...      0.0  Atlanta    GA  \n",
              "1     \"the road that leads to accomplishment is n...      0.0  Atlanta    GA  \n",
              "2  growing company located in the atlanta, ga are...      0.0  Atlanta    GA  \n",
              "3  department: program operationsposition locatio...     44.0  Atlanta    GA  \n",
              "4  description the emory university department of...    550.0  Atlanta    GA  "
            ]
          },
          "execution_count": 41,
          "metadata": {},
          "output_type": "execute_result"
        }
      ],
      "source": [
        "df3.head()"
      ]
    },
    {
      "cell_type": "markdown",
      "metadata": {
        "id": "49DA0MkCTIXC"
      },
      "source": [
        "the main thing which is always mentioned in the job description is that tools required for perticular position \n",
        "so will anlyze that"
      ]
    },
    {
      "cell_type": "markdown",
      "metadata": {
        "id": "uPu1R-EETb7g"
      },
      "source": [
        "We will find how many time \"python\" tool is repeacted in decription"
      ]
    },
    {
      "cell_type": "code",
      "execution_count": 42,
      "metadata": {
        "colab": {
          "base_uri": "https://localhost:8080/"
        },
        "id": "E1yPPXE3gkpb",
        "outputId": "35c79fc7-7d35-4848-ac2e-f9b3b10099b1"
      },
      "outputs": [
        {
          "data": {
            "text/plain": [
              "3717"
            ]
          },
          "execution_count": 42,
          "metadata": {},
          "output_type": "execute_result"
        }
      ],
      "source": [
        "df3['description'].str.count('python').sum()"
      ]
    },
    {
      "cell_type": "markdown",
      "metadata": {
        "id": "likXZw7pTmXC"
      },
      "source": [
        "Now as we require to count frequency for different tool it will better to write function that will return count \n"
      ]
    },
    {
      "cell_type": "code",
      "execution_count": 43,
      "metadata": {
        "id": "qrY93jaAgkxZ"
      },
      "outputs": [],
      "source": [
        "def count_freq(tools):\n",
        "  freq=df3['description'].str.count(tools).sum()\n",
        "  return freq"
      ]
    },
    {
      "cell_type": "markdown",
      "metadata": {
        "id": "tDUXTsp3T1MI"
      },
      "source": [
        "Now we need take a list of most commonly used or known tool for data science. Here we take tool named list. Now will run count_freq() function on each element of the list \n",
        "We will save that frequency in a list called frequency"
      ]
    },
    {
      "cell_type": "code",
      "execution_count": 44,
      "metadata": {
        "id": "UonaKkvagk1f"
      },
      "outputs": [],
      "source": [
        "tool=['python','excel','sql','aws','spark','java','scala','hadoop','sas','tabelu','linux','hive','matlab','powerbi']\n",
        "frequency=[]\n",
        "\n",
        "for i in tool:\n",
        "  a=(count_freq(i))\n",
        "  frequency.append(a)"
      ]
    },
    {
      "cell_type": "code",
      "execution_count": 45,
      "metadata": {
        "colab": {
          "base_uri": "https://localhost:8080/"
        },
        "id": "-5TwqcKTgk5D",
        "outputId": "7ad1435a-4136-467c-bfd6-e2e7c1fcb0af"
      },
      "outputs": [
        {
          "data": {
            "text/plain": [
              "[3717, 5831, 3029, 1706, 1306, 1968, 1911, 1121, 1314, 0, 630, 621, 608, 31]"
            ]
          },
          "execution_count": 45,
          "metadata": {},
          "output_type": "execute_result"
        }
      ],
      "source": [
        "frequency"
      ]
    },
    {
      "cell_type": "markdown",
      "metadata": {
        "id": "DjosS5j0UqDp"
      },
      "source": [
        "We need to make a Dataframe for analysis purpose."
      ]
    },
    {
      "cell_type": "code",
      "execution_count": 46,
      "metadata": {
        "id": "2UgfAhcagk8b"
      },
      "outputs": [],
      "source": [
        "tool_freq = pd.DataFrame(\n",
        "    {'Tool': tool,\n",
        "     'Frequency': frequency\n",
        "    })"
      ]
    },
    {
      "cell_type": "code",
      "execution_count": 47,
      "metadata": {
        "colab": {
          "base_uri": "https://localhost:8080/",
          "height": 488
        },
        "id": "TlN2sTFJgk_h",
        "outputId": "6243202c-f31c-4c12-e3b6-da368a1e0b65"
      },
      "outputs": [
        {
          "data": {
            "text/html": [
              "<div>\n",
              "<style scoped>\n",
              "    .dataframe tbody tr th:only-of-type {\n",
              "        vertical-align: middle;\n",
              "    }\n",
              "\n",
              "    .dataframe tbody tr th {\n",
              "        vertical-align: top;\n",
              "    }\n",
              "\n",
              "    .dataframe thead th {\n",
              "        text-align: right;\n",
              "    }\n",
              "</style>\n",
              "<table border=\"1\" class=\"dataframe\">\n",
              "  <thead>\n",
              "    <tr style=\"text-align: right;\">\n",
              "      <th></th>\n",
              "      <th>Tool</th>\n",
              "      <th>Frequency</th>\n",
              "    </tr>\n",
              "  </thead>\n",
              "  <tbody>\n",
              "    <tr>\n",
              "      <th>0</th>\n",
              "      <td>python</td>\n",
              "      <td>3717</td>\n",
              "    </tr>\n",
              "    <tr>\n",
              "      <th>1</th>\n",
              "      <td>excel</td>\n",
              "      <td>5831</td>\n",
              "    </tr>\n",
              "    <tr>\n",
              "      <th>2</th>\n",
              "      <td>sql</td>\n",
              "      <td>3029</td>\n",
              "    </tr>\n",
              "    <tr>\n",
              "      <th>3</th>\n",
              "      <td>aws</td>\n",
              "      <td>1706</td>\n",
              "    </tr>\n",
              "    <tr>\n",
              "      <th>4</th>\n",
              "      <td>spark</td>\n",
              "      <td>1306</td>\n",
              "    </tr>\n",
              "    <tr>\n",
              "      <th>5</th>\n",
              "      <td>java</td>\n",
              "      <td>1968</td>\n",
              "    </tr>\n",
              "    <tr>\n",
              "      <th>6</th>\n",
              "      <td>scala</td>\n",
              "      <td>1911</td>\n",
              "    </tr>\n",
              "    <tr>\n",
              "      <th>7</th>\n",
              "      <td>hadoop</td>\n",
              "      <td>1121</td>\n",
              "    </tr>\n",
              "    <tr>\n",
              "      <th>8</th>\n",
              "      <td>sas</td>\n",
              "      <td>1314</td>\n",
              "    </tr>\n",
              "    <tr>\n",
              "      <th>9</th>\n",
              "      <td>tabelu</td>\n",
              "      <td>0</td>\n",
              "    </tr>\n",
              "    <tr>\n",
              "      <th>10</th>\n",
              "      <td>linux</td>\n",
              "      <td>630</td>\n",
              "    </tr>\n",
              "    <tr>\n",
              "      <th>11</th>\n",
              "      <td>hive</td>\n",
              "      <td>621</td>\n",
              "    </tr>\n",
              "    <tr>\n",
              "      <th>12</th>\n",
              "      <td>matlab</td>\n",
              "      <td>608</td>\n",
              "    </tr>\n",
              "    <tr>\n",
              "      <th>13</th>\n",
              "      <td>powerbi</td>\n",
              "      <td>31</td>\n",
              "    </tr>\n",
              "  </tbody>\n",
              "</table>\n",
              "</div>"
            ],
            "text/plain": [
              "       Tool  Frequency\n",
              "0    python       3717\n",
              "1     excel       5831\n",
              "2       sql       3029\n",
              "3       aws       1706\n",
              "4     spark       1306\n",
              "5      java       1968\n",
              "6     scala       1911\n",
              "7    hadoop       1121\n",
              "8       sas       1314\n",
              "9    tabelu          0\n",
              "10    linux        630\n",
              "11     hive        621\n",
              "12   matlab        608\n",
              "13  powerbi         31"
            ]
          },
          "execution_count": 47,
          "metadata": {},
          "output_type": "execute_result"
        }
      ],
      "source": [
        "tool_freq"
      ]
    },
    {
      "cell_type": "markdown",
      "metadata": {
        "id": "7wPcG0hKVDCn"
      },
      "source": [
        "We can sort these dataframe by frequency to get most demanded tool in JD"
      ]
    },
    {
      "cell_type": "code",
      "execution_count": 48,
      "metadata": {
        "colab": {
          "base_uri": "https://localhost:8080/",
          "height": 81
        },
        "id": "x8o6fSiUojy0",
        "outputId": "ee1bb29b-973e-4c99-9174-4e87f06f94cc"
      },
      "outputs": [
        {
          "data": {
            "text/html": [
              "<div>\n",
              "<style scoped>\n",
              "    .dataframe tbody tr th:only-of-type {\n",
              "        vertical-align: middle;\n",
              "    }\n",
              "\n",
              "    .dataframe tbody tr th {\n",
              "        vertical-align: top;\n",
              "    }\n",
              "\n",
              "    .dataframe thead th {\n",
              "        text-align: right;\n",
              "    }\n",
              "</style>\n",
              "<table border=\"1\" class=\"dataframe\">\n",
              "  <thead>\n",
              "    <tr style=\"text-align: right;\">\n",
              "      <th></th>\n",
              "      <th>Tool</th>\n",
              "      <th>Frequency</th>\n",
              "    </tr>\n",
              "  </thead>\n",
              "  <tbody>\n",
              "    <tr>\n",
              "      <th>1</th>\n",
              "      <td>excel</td>\n",
              "      <td>5831</td>\n",
              "    </tr>\n",
              "  </tbody>\n",
              "</table>\n",
              "</div>"
            ],
            "text/plain": [
              "    Tool  Frequency\n",
              "1  excel       5831"
            ]
          },
          "execution_count": 48,
          "metadata": {},
          "output_type": "execute_result"
        }
      ],
      "source": [
        "most_demanded_tool=tool_freq.sort_values(by='Frequency',ascending=False)\n",
        "most_demanded_tool.head(1)"
      ]
    },
    {
      "cell_type": "markdown",
      "metadata": {
        "id": "3TkRfv_uojy0"
      },
      "source": [
        "Analysis of City Column"
      ]
    },
    {
      "cell_type": "markdown",
      "metadata": {
        "id": "cG8r2gz6VzIh"
      },
      "source": [
        "We can find out number of position open in specfic city by using group by function"
      ]
    },
    {
      "cell_type": "code",
      "execution_count": 49,
      "metadata": {
        "colab": {
          "base_uri": "https://localhost:8080/",
          "height": 455
        },
        "id": "hGoFiqH0ojy0",
        "outputId": "28044462-c969-49cf-e0fb-b249d5640dba"
      },
      "outputs": [
        {
          "data": {
            "text/html": [
              "<div>\n",
              "<style scoped>\n",
              "    .dataframe tbody tr th:only-of-type {\n",
              "        vertical-align: middle;\n",
              "    }\n",
              "\n",
              "    .dataframe tbody tr th {\n",
              "        vertical-align: top;\n",
              "    }\n",
              "\n",
              "    .dataframe thead th {\n",
              "        text-align: right;\n",
              "    }\n",
              "</style>\n",
              "<table border=\"1\" class=\"dataframe\">\n",
              "  <thead>\n",
              "    <tr style=\"text-align: right;\">\n",
              "      <th></th>\n",
              "      <th>position</th>\n",
              "    </tr>\n",
              "    <tr>\n",
              "      <th>City</th>\n",
              "      <th></th>\n",
              "    </tr>\n",
              "  </thead>\n",
              "  <tbody>\n",
              "    <tr>\n",
              "      <th>Alameda</th>\n",
              "      <td>10</td>\n",
              "    </tr>\n",
              "    <tr>\n",
              "      <th>Allendale</th>\n",
              "      <td>2</td>\n",
              "    </tr>\n",
              "    <tr>\n",
              "      <th>Atlanta</th>\n",
              "      <td>269</td>\n",
              "    </tr>\n",
              "    <tr>\n",
              "      <th>Austin</th>\n",
              "      <td>213</td>\n",
              "    </tr>\n",
              "    <tr>\n",
              "      <th>Bedminster</th>\n",
              "      <td>1</td>\n",
              "    </tr>\n",
              "    <tr>\n",
              "      <th>...</th>\n",
              "      <td>...</td>\n",
              "    </tr>\n",
              "    <tr>\n",
              "      <th>Washington</th>\n",
              "      <td>340</td>\n",
              "    </tr>\n",
              "    <tr>\n",
              "      <th>West Orange</th>\n",
              "      <td>1</td>\n",
              "    </tr>\n",
              "    <tr>\n",
              "      <th>Whippany</th>\n",
              "      <td>1</td>\n",
              "    </tr>\n",
              "    <tr>\n",
              "      <th>Woodcliff Lake</th>\n",
              "      <td>1</td>\n",
              "    </tr>\n",
              "    <tr>\n",
              "      <th>Yonkers</th>\n",
              "      <td>1</td>\n",
              "    </tr>\n",
              "  </tbody>\n",
              "</table>\n",
              "<p>91 rows × 1 columns</p>\n",
              "</div>"
            ],
            "text/plain": [
              "                position\n",
              "City                    \n",
              "Alameda               10\n",
              "Allendale              2\n",
              "Atlanta              269\n",
              "Austin               213\n",
              "Bedminster             1\n",
              "...                  ...\n",
              "Washington           340\n",
              "West Orange            1\n",
              "Whippany               1\n",
              "Woodcliff Lake         1\n",
              "Yonkers                1\n",
              "\n",
              "[91 rows x 1 columns]"
            ]
          },
          "execution_count": 49,
          "metadata": {},
          "output_type": "execute_result"
        }
      ],
      "source": [
        "city_wise_position=df3.groupby('City')[['position']].count()\n",
        "city_wise_position"
      ]
    },
    {
      "cell_type": "markdown",
      "metadata": {
        "id": "77n8OaUdV94Q"
      },
      "source": [
        "By using sort method we can find out top cities with most number of openings"
      ]
    },
    {
      "cell_type": "code",
      "execution_count": 50,
      "metadata": {
        "colab": {
          "base_uri": "https://localhost:8080/",
          "height": 237
        },
        "id": "JYbn4FH5ojy0",
        "outputId": "b23c3383-d3b8-4128-c645-e20a518d2445"
      },
      "outputs": [
        {
          "data": {
            "text/html": [
              "<div>\n",
              "<style scoped>\n",
              "    .dataframe tbody tr th:only-of-type {\n",
              "        vertical-align: middle;\n",
              "    }\n",
              "\n",
              "    .dataframe tbody tr th {\n",
              "        vertical-align: top;\n",
              "    }\n",
              "\n",
              "    .dataframe thead th {\n",
              "        text-align: right;\n",
              "    }\n",
              "</style>\n",
              "<table border=\"1\" class=\"dataframe\">\n",
              "  <thead>\n",
              "    <tr style=\"text-align: right;\">\n",
              "      <th></th>\n",
              "      <th>position</th>\n",
              "    </tr>\n",
              "    <tr>\n",
              "      <th>City</th>\n",
              "      <th></th>\n",
              "    </tr>\n",
              "  </thead>\n",
              "  <tbody>\n",
              "    <tr>\n",
              "      <th>New York</th>\n",
              "      <td>848</td>\n",
              "    </tr>\n",
              "    <tr>\n",
              "      <th>Seattle</th>\n",
              "      <td>777</td>\n",
              "    </tr>\n",
              "    <tr>\n",
              "      <th>Cambridge</th>\n",
              "      <td>694</td>\n",
              "    </tr>\n",
              "    <tr>\n",
              "      <th>Boston</th>\n",
              "      <td>629</td>\n",
              "    </tr>\n",
              "    <tr>\n",
              "      <th>San Francisco</th>\n",
              "      <td>564</td>\n",
              "    </tr>\n",
              "  </tbody>\n",
              "</table>\n",
              "</div>"
            ],
            "text/plain": [
              "               position\n",
              "City                   \n",
              "New York            848\n",
              "Seattle             777\n",
              "Cambridge           694\n",
              "Boston              629\n",
              "San Francisco       564"
            ]
          },
          "execution_count": 50,
          "metadata": {},
          "output_type": "execute_result"
        }
      ],
      "source": [
        "top_cities=city_wise_position.sort_values(by='position',ascending=False)\n",
        "Top_cities=top_cities.head(15)\n",
        "Top_cities.head()"
      ]
    },
    {
      "cell_type": "code",
      "execution_count": 51,
      "metadata": {
        "colab": {
          "base_uri": "https://localhost:8080/",
          "height": 338
        },
        "id": "MtHGFtQTWKfN",
        "outputId": "1ff81dfa-d947-4c1d-d44a-612a61351c1a"
      },
      "outputs": [
        {
          "data": {
            "image/png": "[encoded data removed]",
            "text/plain": [
              "<Figure size 2880x720 with 1 Axes>"
            ]
          },
          "metadata": {
            "needs_background": "light"
          },
          "output_type": "display_data"
        }
      ],
      "source": [
        "plt.figure(figsize=(40,10))\n",
        "\n",
        "plt.bar(Top_cities.index,Top_cities['position'],width=0.5,color='brown')\n",
        "\n",
        "plt.title('Top Cities',fontsize=30)\n",
        "\n",
        "plt.xlabel('City',fontsize=30);\n",
        "plt.ylabel('No of Positions',fontsize=28);\n",
        "\n",
        "plt.savefig('Top Cities.png')"
      ]
    },
    {
      "cell_type": "markdown",
      "metadata": {
        "id": "xlzhWzZ_Wtkt"
      },
      "source": [
        "From the above chart we can clearly see newyork is top city with most number of openings"
      ]
    },
    {
      "cell_type": "markdown",
      "metadata": {
        "id": "W-9A_Oj7ojy0"
      },
      "source": [
        "# Analysis using State column"
      ]
    },
    {
      "cell_type": "code",
      "execution_count": 52,
      "metadata": {
        "colab": {
          "base_uri": "https://localhost:8080/",
          "height": 394
        },
        "id": "-rfYTQfjojy0",
        "outputId": "5f3d6914-1999-4e9a-f260-a4458b811d3b"
      },
      "outputs": [
        {
          "data": {
            "text/html": [
              "<div>\n",
              "<style scoped>\n",
              "    .dataframe tbody tr th:only-of-type {\n",
              "        vertical-align: middle;\n",
              "    }\n",
              "\n",
              "    .dataframe tbody tr th {\n",
              "        vertical-align: top;\n",
              "    }\n",
              "\n",
              "    .dataframe thead th {\n",
              "        text-align: right;\n",
              "    }\n",
              "</style>\n",
              "<table border=\"1\" class=\"dataframe\">\n",
              "  <thead>\n",
              "    <tr style=\"text-align: right;\">\n",
              "      <th></th>\n",
              "      <th>position</th>\n",
              "    </tr>\n",
              "    <tr>\n",
              "      <th>state</th>\n",
              "      <th></th>\n",
              "    </tr>\n",
              "  </thead>\n",
              "  <tbody>\n",
              "    <tr>\n",
              "      <th>CA</th>\n",
              "      <td>2152</td>\n",
              "    </tr>\n",
              "    <tr>\n",
              "      <th>CO</th>\n",
              "      <td>251</td>\n",
              "    </tr>\n",
              "    <tr>\n",
              "      <th>DC</th>\n",
              "      <td>340</td>\n",
              "    </tr>\n",
              "    <tr>\n",
              "      <th>GA</th>\n",
              "      <td>269</td>\n",
              "    </tr>\n",
              "    <tr>\n",
              "      <th>IL</th>\n",
              "      <td>471</td>\n",
              "    </tr>\n",
              "    <tr>\n",
              "      <th>MA</th>\n",
              "      <td>1323</td>\n",
              "    </tr>\n",
              "    <tr>\n",
              "      <th>NJ</th>\n",
              "      <td>68</td>\n",
              "    </tr>\n",
              "    <tr>\n",
              "      <th>NY</th>\n",
              "      <td>926</td>\n",
              "    </tr>\n",
              "    <tr>\n",
              "      <th>TX</th>\n",
              "      <td>218</td>\n",
              "    </tr>\n",
              "    <tr>\n",
              "      <th>WA</th>\n",
              "      <td>935</td>\n",
              "    </tr>\n",
              "  </tbody>\n",
              "</table>\n",
              "</div>"
            ],
            "text/plain": [
              "       position\n",
              "state          \n",
              " CA        2152\n",
              " CO         251\n",
              " DC         340\n",
              " GA         269\n",
              " IL         471\n",
              " MA        1323\n",
              " NJ          68\n",
              " NY         926\n",
              " TX         218\n",
              " WA         935"
            ]
          },
          "execution_count": 52,
          "metadata": {},
          "output_type": "execute_result"
        }
      ],
      "source": [
        "state_wise_position=df3.groupby('state')[['position']].count()\n",
        "state_wise_position"
      ]
    },
    {
      "cell_type": "code",
      "execution_count": 53,
      "metadata": {
        "colab": {
          "base_uri": "https://localhost:8080/",
          "height": 394
        },
        "id": "y5zzkKDPojy0",
        "outputId": "bf0c62c9-4123-4968-c153-9ffd4553262e"
      },
      "outputs": [
        {
          "data": {
            "text/html": [
              "<div>\n",
              "<style scoped>\n",
              "    .dataframe tbody tr th:only-of-type {\n",
              "        vertical-align: middle;\n",
              "    }\n",
              "\n",
              "    .dataframe tbody tr th {\n",
              "        vertical-align: top;\n",
              "    }\n",
              "\n",
              "    .dataframe thead th {\n",
              "        text-align: right;\n",
              "    }\n",
              "</style>\n",
              "<table border=\"1\" class=\"dataframe\">\n",
              "  <thead>\n",
              "    <tr style=\"text-align: right;\">\n",
              "      <th></th>\n",
              "      <th>position</th>\n",
              "    </tr>\n",
              "    <tr>\n",
              "      <th>state</th>\n",
              "      <th></th>\n",
              "    </tr>\n",
              "  </thead>\n",
              "  <tbody>\n",
              "    <tr>\n",
              "      <th>CA</th>\n",
              "      <td>2152</td>\n",
              "    </tr>\n",
              "    <tr>\n",
              "      <th>MA</th>\n",
              "      <td>1323</td>\n",
              "    </tr>\n",
              "    <tr>\n",
              "      <th>WA</th>\n",
              "      <td>935</td>\n",
              "    </tr>\n",
              "    <tr>\n",
              "      <th>NY</th>\n",
              "      <td>926</td>\n",
              "    </tr>\n",
              "    <tr>\n",
              "      <th>IL</th>\n",
              "      <td>471</td>\n",
              "    </tr>\n",
              "    <tr>\n",
              "      <th>DC</th>\n",
              "      <td>340</td>\n",
              "    </tr>\n",
              "    <tr>\n",
              "      <th>GA</th>\n",
              "      <td>269</td>\n",
              "    </tr>\n",
              "    <tr>\n",
              "      <th>CO</th>\n",
              "      <td>251</td>\n",
              "    </tr>\n",
              "    <tr>\n",
              "      <th>TX</th>\n",
              "      <td>218</td>\n",
              "    </tr>\n",
              "    <tr>\n",
              "      <th>NJ</th>\n",
              "      <td>68</td>\n",
              "    </tr>\n",
              "  </tbody>\n",
              "</table>\n",
              "</div>"
            ],
            "text/plain": [
              "       position\n",
              "state          \n",
              " CA        2152\n",
              " MA        1323\n",
              " WA         935\n",
              " NY         926\n",
              " IL         471\n",
              " DC         340\n",
              " GA         269\n",
              " CO         251\n",
              " TX         218\n",
              " NJ          68"
            ]
          },
          "execution_count": 53,
          "metadata": {},
          "output_type": "execute_result"
        }
      ],
      "source": [
        "top_state=state_wise_position.sort_values(by='position',ascending=False)\n",
        "Top_state=top_state.head(20)\n",
        "Top_state.head(20)"
      ]
    },
    {
      "cell_type": "code",
      "execution_count": 54,
      "metadata": {
        "colab": {
          "base_uri": "https://localhost:8080/",
          "height": 337
        },
        "id": "KZPyszuUr-4V",
        "outputId": "30086014-e824-4bce-a4ee-c6ded2d0b877"
      },
      "outputs": [
        {
          "data": {
            "image/png": "[encoded data removed]",
            "text/plain": [
              "<Figure size 2880x720 with 1 Axes>"
            ]
          },
          "metadata": {
            "needs_background": "light"
          },
          "output_type": "display_data"
        }
      ],
      "source": [
        "plt.figure(figsize=(40,10))\n",
        "\n",
        "plt.bar(Top_state.index,Top_state['position'],width=0.5,color='black')\n",
        "\n",
        "plt.title('Top States',fontsize=30)\n",
        "\n",
        "plt.xlabel('State',fontsize=30);\n",
        "plt.ylabel('No of Positions',fontsize=28);\n",
        "\n",
        "plt.savefig('Top states.png')"
      ]
    },
    {
      "cell_type": "markdown",
      "metadata": {
        "id": "jt_saRmwXUfa"
      },
      "source": [
        "From the chart we can clearly see CA i.e. Calefornia has most number of openings"
      ]
    },
    {
      "cell_type": "markdown",
      "metadata": {
        "id": "L9QOOTTlojy0"
      },
      "source": [
        "Let us save and upload our work to Jovian before continuing"
      ]
    },
    {
      "cell_type": "markdown",
      "metadata": {
        "id": "NV7fjOZQojy0"
      },
      "source": [
        "## Asking and Answering Questions\n",
        "\n",
        "\n"
      ]
    },
    {
      "cell_type": "markdown",
      "metadata": {
        "id": "wlWwxpesojy1"
      },
      "source": [
        "#### Q1: total number of job positions in the given data set?"
      ]
    },
    {
      "cell_type": "code",
      "execution_count": 55,
      "metadata": {
        "colab": {
          "base_uri": "https://localhost:8080/"
        },
        "id": "dAshpO7Gojy1",
        "outputId": "767a63b1-3702-4da0-a937-06f4fa7d1af5"
      },
      "outputs": [
        {
          "data": {
            "text/plain": [
              "(6953,)"
            ]
          },
          "execution_count": 55,
          "metadata": {},
          "output_type": "execute_result"
        }
      ],
      "source": [
        "df3['position'].shape"
      ]
    },
    {
      "cell_type": "code",
      "execution_count": 56,
      "metadata": {
        "id": "IR4MPpU4ojy1"
      },
      "outputs": [],
      "source": [
        "no_of_position=df3['position'].shape[0]"
      ]
    },
    {
      "cell_type": "code",
      "execution_count": 57,
      "metadata": {
        "colab": {
          "base_uri": "https://localhost:8080/"
        },
        "id": "wHpJ8m7Vojy1",
        "outputId": "773aa098-ab2a-46e7-c746-a854e62ffb65"
      },
      "outputs": [
        {
          "name": "stdout",
          "output_type": "stream",
          "text": [
            "Total number of positions are 6953\n"
          ]
        }
      ],
      "source": [
        "print(\"Total number of positions are\",format(no_of_position))"
      ]
    },
    {
      "cell_type": "markdown",
      "metadata": {
        "id": "JNAaEUi9ojy1"
      },
      "source": [
        "#### Q2: what percentage of job position as Data Scientist?"
      ]
    },
    {
      "cell_type": "markdown",
      "metadata": {
        "id": "ItFWaTQe0War"
      },
      "source": [
        "![download.png](data:image/png;base64,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)"
      ]
    },
    {
      "cell_type": "markdown",
      "metadata": {
        "id": "lGPMFAR61wOf"
      },
      "source": [
        "From the above graph we can see that 70% roles are of Data scientist"
      ]
    },
    {
      "cell_type": "markdown",
      "metadata": {
        "id": "QW-ms37Nojy1"
      },
      "source": [
        "#### Q3: Which are the top 10 employers for data science jobs?"
      ]
    },
    {
      "cell_type": "code",
      "execution_count": 58,
      "metadata": {
        "colab": {
          "base_uri": "https://localhost:8080/",
          "height": 394
        },
        "id": "62gN7wPcojy1",
        "outputId": "0db3068a-f094-4171-f76d-400562a477b4"
      },
      "outputs": [
        {
          "data": {
            "text/html": [
              "<div>\n",
              "<style scoped>\n",
              "    .dataframe tbody tr th:only-of-type {\n",
              "        vertical-align: middle;\n",
              "    }\n",
              "\n",
              "    .dataframe tbody tr th {\n",
              "        vertical-align: top;\n",
              "    }\n",
              "\n",
              "    .dataframe thead th {\n",
              "        text-align: right;\n",
              "    }\n",
              "</style>\n",
              "<table border=\"1\" class=\"dataframe\">\n",
              "  <thead>\n",
              "    <tr style=\"text-align: right;\">\n",
              "      <th></th>\n",
              "      <th>position</th>\n",
              "    </tr>\n",
              "    <tr>\n",
              "      <th>company</th>\n",
              "      <th></th>\n",
              "    </tr>\n",
              "  </thead>\n",
              "  <tbody>\n",
              "    <tr>\n",
              "      <th>amazon.com</th>\n",
              "      <td>358</td>\n",
              "    </tr>\n",
              "    <tr>\n",
              "      <th>ball aerospace</th>\n",
              "      <td>187</td>\n",
              "    </tr>\n",
              "    <tr>\n",
              "      <th>microsoft</th>\n",
              "      <td>137</td>\n",
              "    </tr>\n",
              "    <tr>\n",
              "      <th>google</th>\n",
              "      <td>134</td>\n",
              "    </tr>\n",
              "    <tr>\n",
              "      <th>nyu langone health</th>\n",
              "      <td>77</td>\n",
              "    </tr>\n",
              "    <tr>\n",
              "      <th>fred hutchinson cancer research center</th>\n",
              "      <td>70</td>\n",
              "    </tr>\n",
              "    <tr>\n",
              "      <th>kpmg</th>\n",
              "      <td>66</td>\n",
              "    </tr>\n",
              "    <tr>\n",
              "      <th>lab126</th>\n",
              "      <td>50</td>\n",
              "    </tr>\n",
              "    <tr>\n",
              "      <th>facebook</th>\n",
              "      <td>49</td>\n",
              "    </tr>\n",
              "    <tr>\n",
              "      <th>broad institute</th>\n",
              "      <td>49</td>\n",
              "    </tr>\n",
              "  </tbody>\n",
              "</table>\n",
              "</div>"
            ],
            "text/plain": [
              "                                        position\n",
              "company                                         \n",
              "amazon.com                                   358\n",
              "ball aerospace                               187\n",
              "microsoft                                    137\n",
              "google                                       134\n",
              "nyu langone health                            77\n",
              "fred hutchinson cancer research center        70\n",
              "kpmg                                          66\n",
              "lab126                                        50\n",
              "facebook                                      49\n",
              "broad institute                               49"
            ]
          },
          "execution_count": 58,
          "metadata": {},
          "output_type": "execute_result"
        }
      ],
      "source": [
        "top_ten_emp=Top_employers.head(10)\n",
        "top_ten_emp"
      ]
    },
    {
      "cell_type": "code",
      "execution_count": 59,
      "metadata": {
        "colab": {
          "base_uri": "https://localhost:8080/",
          "height": 338
        },
        "id": "wF-Kk1xNojy1",
        "outputId": "e0e51ae9-c182-4261-e423-48e6120707d9"
      },
      "outputs": [
        {
          "data": {
            "image/png": "[encoded data removed]",
            "text/plain": [
              "<Figure size 2880x720 with 1 Axes>"
            ]
          },
          "metadata": {
            "needs_background": "light"
          },
          "output_type": "display_data"
        }
      ],
      "source": [
        "plt.figure(figsize=(40,10))\n",
        "\n",
        "plt.bar(top_ten_emp.index,top_ten_emp['position'],width=0.5,color='red')\n",
        "\n",
        "plt.title('Top Data science Employers',fontsize=30)\n",
        "\n",
        "plt.xlabel('Employer',fontsize=30);\n",
        "plt.ylabel('No of Positions',fontsize=28);\n",
        "\n",
        "plt.savefig('Top 10 emp.png')"
      ]
    },
    {
      "cell_type": "markdown",
      "metadata": {
        "id": "LjgwCyZmX0kg"
      },
      "source": [
        "We have see top 10 company bars in the chart "
      ]
    },
    {
      "cell_type": "markdown",
      "metadata": {
        "id": "CooxTFgtojy2"
      },
      "source": [
        "#### Q4: What are top 10 Tools employers are looking for?"
      ]
    },
    {
      "cell_type": "code",
      "execution_count": 60,
      "metadata": {
        "colab": {
          "base_uri": "https://localhost:8080/",
          "height": 363
        },
        "id": "fIxEFR7W6tD8",
        "outputId": "f48c31f8-0929-43e7-9f7c-18387b3d9513"
      },
      "outputs": [
        {
          "data": {
            "text/html": [
              "<div>\n",
              "<style scoped>\n",
              "    .dataframe tbody tr th:only-of-type {\n",
              "        vertical-align: middle;\n",
              "    }\n",
              "\n",
              "    .dataframe tbody tr th {\n",
              "        vertical-align: top;\n",
              "    }\n",
              "\n",
              "    .dataframe thead th {\n",
              "        text-align: right;\n",
              "    }\n",
              "</style>\n",
              "<table border=\"1\" class=\"dataframe\">\n",
              "  <thead>\n",
              "    <tr style=\"text-align: right;\">\n",
              "      <th></th>\n",
              "      <th>Tool</th>\n",
              "      <th>Frequency</th>\n",
              "    </tr>\n",
              "  </thead>\n",
              "  <tbody>\n",
              "    <tr>\n",
              "      <th>1</th>\n",
              "      <td>excel</td>\n",
              "      <td>5831</td>\n",
              "    </tr>\n",
              "    <tr>\n",
              "      <th>0</th>\n",
              "      <td>python</td>\n",
              "      <td>3717</td>\n",
              "    </tr>\n",
              "    <tr>\n",
              "      <th>2</th>\n",
              "      <td>sql</td>\n",
              "      <td>3029</td>\n",
              "    </tr>\n",
              "    <tr>\n",
              "      <th>5</th>\n",
              "      <td>java</td>\n",
              "      <td>1968</td>\n",
              "    </tr>\n",
              "    <tr>\n",
              "      <th>6</th>\n",
              "      <td>scala</td>\n",
              "      <td>1911</td>\n",
              "    </tr>\n",
              "    <tr>\n",
              "      <th>3</th>\n",
              "      <td>aws</td>\n",
              "      <td>1706</td>\n",
              "    </tr>\n",
              "    <tr>\n",
              "      <th>8</th>\n",
              "      <td>sas</td>\n",
              "      <td>1314</td>\n",
              "    </tr>\n",
              "    <tr>\n",
              "      <th>4</th>\n",
              "      <td>spark</td>\n",
              "      <td>1306</td>\n",
              "    </tr>\n",
              "    <tr>\n",
              "      <th>7</th>\n",
              "      <td>hadoop</td>\n",
              "      <td>1121</td>\n",
              "    </tr>\n",
              "    <tr>\n",
              "      <th>10</th>\n",
              "      <td>linux</td>\n",
              "      <td>630</td>\n",
              "    </tr>\n",
              "  </tbody>\n",
              "</table>\n",
              "</div>"
            ],
            "text/plain": [
              "      Tool  Frequency\n",
              "1    excel       5831\n",
              "0   python       3717\n",
              "2      sql       3029\n",
              "5     java       1968\n",
              "6    scala       1911\n",
              "3      aws       1706\n",
              "8      sas       1314\n",
              "4    spark       1306\n",
              "7   hadoop       1121\n",
              "10   linux        630"
            ]
          },
          "execution_count": 60,
          "metadata": {},
          "output_type": "execute_result"
        }
      ],
      "source": [
        "top_10_tool=tool_freq.sort_values(by='Frequency',ascending=False).head(10)\n",
        "top_10_tool"
      ]
    },
    {
      "cell_type": "code",
      "execution_count": 61,
      "metadata": {
        "colab": {
          "base_uri": "https://localhost:8080/",
          "height": 343
        },
        "id": "uBMxlldYojy2",
        "outputId": "3008fc67-7ea4-4bc8-e5d0-1c41f8b08eda"
      },
      "outputs": [
        {
          "data": {
            "image/png": "[encoded data removed]",
            "text/plain": [
              "<Figure size 648x360 with 1 Axes>"
            ]
          },
          "metadata": {
            "needs_background": "light"
          },
          "output_type": "display_data"
        }
      ],
      "source": [
        "plt.bar(top_10_tool['Tool'],top_10_tool['Frequency'],width=0.5,color='c')\n",
        "\n",
        "plt.xlabel('Tool',fontsize=15);\n",
        "plt.ylabel('Frequency',fontsize=15);"
      ]
    },
    {
      "cell_type": "markdown",
      "metadata": {
        "id": "DuuWKHO0ojy2"
      },
      "source": [
        "#### Q5: Which are top 5 states for data science jobs?"
      ]
    },
    {
      "cell_type": "code",
      "execution_count": 62,
      "metadata": {
        "colab": {
          "base_uri": "https://localhost:8080/"
        },
        "id": "ky5yVjvJojy2",
        "outputId": "38809a11-10f1-4996-8472-3c16f6b3baa2"
      },
      "outputs": [
        {
          "data": {
            "text/plain": [
              "Index([' CA', ' MA', ' WA', ' NY', ' IL'], dtype='object', name='state')"
            ]
          },
          "execution_count": 62,
          "metadata": {},
          "output_type": "execute_result"
        }
      ],
      "source": [
        "top_5_state=top_state.head(5).index\n",
        "top_5_state"
      ]
    },
    {
      "cell_type": "code",
      "execution_count": 63,
      "metadata": {
        "colab": {
          "base_uri": "https://localhost:8080/"
        },
        "id": "O_OTeLyxojy2",
        "outputId": "6c547070-2d92-42a5-84ea-d2050a236702"
      },
      "outputs": [
        {
          "name": "stdout",
          "output_type": "stream",
          "text": [
            "top 1 CA\n",
            "top 2 MA\n",
            "top 3 WA\n",
            "top 4 NY\n",
            "top 5 IL\n"
          ]
        }
      ],
      "source": [
        "j=1\n",
        "for i in top_5_state:\n",
        "  print(\"top \"+str(j)+str(i))\n",
        "  j+=1"
      ]
    },
    {
      "cell_type": "markdown",
      "metadata": {
        "id": "OOa3AGAHojy2"
      },
      "source": [
        "Let us save and upload our work to Jovian before continuing."
      ]
    },
    {
      "cell_type": "markdown",
      "metadata": {
        "id": "hTQGL0WHojy3"
      },
      "source": [
        "## Inferences and Conclusion\n",
        "\n",
        "From the whole analyis we find out\n",
        "\n",
        "\n",
        "1.   Top role in Data Science Field\n",
        "2.   Top Employers\n",
        "3.   Top States and Cities with most opening \n",
        "4.   Most demanded skills \n",
        "\n",
        "We find many important insights using this data"
      ]
    }
  ],
  "metadata": {
    "colab": {
      "collapsed_sections": [],
      "name": "Zero to pandas-course-project: Data Scientist Job Market in the U.S .ipynb",
      "provenance": []
    },
    "kernelspec": {
      "display_name": "Python 3",
      "language": "python",
      "name": "python3"
    },
    "language_info": {
      "codemirror_mode": {
        "name": "ipython",
        "version": 3
      },
      "file_extension": ".py",
      "mimetype": "text/x-python",
      "name": "python",
      "nbconvert_exporter": "python",
      "pygments_lexer": "ipython3",
      "version": "3.8.1"
    }
  },
  "nbformat": 4,
  "nbformat_minor": 0
}
